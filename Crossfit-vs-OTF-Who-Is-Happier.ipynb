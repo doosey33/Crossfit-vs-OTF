{
 "cells": [
  {
   "cell_type": "markdown",
   "id": "7b97e592-cf8e-4dfb-9543-15d8f9c2c3a2",
   "metadata": {},
   "source": [
    "### Problem Statement"
   ]
  },
  {
   "cell_type": "markdown",
   "id": "5cf8b4da-af83-4eff-8238-7d73e03f7cd1",
   "metadata": {},
   "source": [
    "   Crossfit and Orange Theory are two of the biggest fitness regimen studios in the country. Both boast huge followings in memberships and in online presence as well. While they both aim to get you in shape through exercise, their methods differ on how to achieve your fitness goals. Crossfit is known to have a bigger strength training component to its workouts, while Orange Theory emphasizes cardio more.\n",
    "   \n",
    "   As a data scientist, the purpose of this project is to use data from the respective subreddits of each gym to build a model that will be able to differentiate between the two when given a sample of text. From there, I am hoping to be able to make a prediciton on which group is happier/more satisfied with their workouts."
   ]
  },
  {
   "cell_type": "markdown",
   "id": "f45a16c6-ae33-4e24-8849-0865248d103d",
   "metadata": {},
   "source": [
    "#### Imports"
   ]
  },
  {
   "cell_type": "code",
   "execution_count": 129,
   "id": "0ca22ec5-1203-4d26-a034-81c4f3f4a8d6",
   "metadata": {},
   "outputs": [],
   "source": [
    "import requests\n",
    "import time\n",
    "\n",
    "import pandas as pd\n",
    "import numpy as np\n",
    "import seaborn as sns\n",
    "import matplotlib.pyplot as plt\n",
    "import re\n",
    "\n",
    "from sklearn.linear_model import LogisticRegression\n",
    "from sklearn.model_selection import train_test_split,cross_val_score,GridSearchCV\n",
    "from sklearn.metrics import r2_score,mean_squared_error,confusion_matrix,accuracy_score, plot_confusion_matrix\n",
    "from sklearn.preprocessing import StandardScaler\n",
    "from sklearn.pipeline import Pipeline\n",
    "from sklearn.feature_extraction.text import CountVectorizer,TfidfVectorizer\n",
    "from sklearn.naive_bayes import MultinomialNB\n",
    "from sklearn.ensemble import RandomForestClassifier\n",
    "\n",
    "from nltk.stem import PorterStemmer,WordNetLemmatizer\n",
    "from nltk.tokenize import sent_tokenize, word_tokenize, RegexpTokenizer\n",
    "from nltk.corpus import stopwords\n",
    "from nltk.sentiment.vader import SentimentIntensityAnalyzer\n"
   ]
  },
  {
   "cell_type": "markdown",
   "id": "c1ffb7e1-5f02-490e-ba4d-61e1896ca769",
   "metadata": {},
   "source": [
    "### Data Collection"
   ]
  },
  {
   "cell_type": "code",
   "execution_count": 2,
   "id": "2ad72dd3-e7bc-41dc-a2af-152daf7c5f5b",
   "metadata": {},
   "outputs": [],
   "source": [
    "url = 'https://api.pushshift.io/reddit/search/submission'"
   ]
  },
  {
   "cell_type": "code",
   "execution_count": 3,
   "id": "0fec036f-41ab-48a3-82ab-dd3fc45065d6",
   "metadata": {},
   "outputs": [
    {
     "data": {
      "text/plain": [
       "1624946574"
      ]
     },
     "execution_count": 3,
     "metadata": {},
     "output_type": "execute_result"
    }
   ],
   "source": [
    "params = {\n",
    "    'subreddit': 'crossfit',\n",
    "}\n",
    "\n",
    "res = requests.get(url, params=params)\n",
    "\n",
    "res.status_code\n",
    "\n",
    "data = res.json()\n",
    "\n",
    "data['data'][-1]['created_utc']"
   ]
  },
  {
   "cell_type": "markdown",
   "id": "a1dade85-ae09-4daa-b78b-329a6ac6427b",
   "metadata": {},
   "source": [
    "##### ORANGE THEORY API CALLS (1000 POSTS)"
   ]
  },
  {
   "cell_type": "code",
   "execution_count": 4,
   "id": "cba6348b-adbd-4fd8-8dcc-31e3d8c1b185",
   "metadata": {},
   "outputs": [
    {
     "name": "stdout",
     "output_type": "stream",
     "text": [
      "before updated to 1623864083\n",
      "before updated to 1623631683\n",
      "before updated to 1623385253\n",
      "before updated to 1623181910\n",
      "before updated to 1622996066\n",
      "before updated to 1622753690\n",
      "before updated to 1622503721\n",
      "before updated to 1622232916\n",
      "before updated to 1621990207\n",
      "before updated to 1621728021\n"
     ]
    }
   ],
   "source": [
    "url = \"https://api.pushshift.io/reddit/search/submission\"\n",
    "subreddit = 'orangetheory'\n",
    "before = 1624106335\n",
    "\n",
    "otf_df_list = []\n",
    "\n",
    "for _ in range(10):\n",
    "    \n",
    "    params = {\n",
    "        'subreddit': subreddit,\n",
    "        'size': 100,\n",
    "        'before': before\n",
    "    }\n",
    "\n",
    "    res = requests.get(url, params=params)\n",
    "    json = res.json()\n",
    "    \n",
    "    before = json['data'][-1]['created_utc']\n",
    "    print(f\"before updated to {before}\")\n",
    "    \n",
    "    # need the 'data' from the json\n",
    "    dataframe = pd.DataFrame(res.json()['data'])\n",
    "    otf_df_list.append(dataframe)\n",
    "    \n",
    "    time.sleep(5)\n",
    "    \n",
    "# CREDIT -- adapted from Caroline Schmitt code-along practice."
   ]
  },
  {
   "cell_type": "code",
   "execution_count": 5,
   "id": "d51b5885-afd8-497c-90bf-46f4e6da4556",
   "metadata": {},
   "outputs": [],
   "source": [
    "otf_df = pd.concat(otf_df_list).reset_index(drop=True)"
   ]
  },
  {
   "cell_type": "code",
   "execution_count": 6,
   "id": "23b1140b-2af6-471a-b1ca-c0cf8bd1d48c",
   "metadata": {},
   "outputs": [
    {
     "data": {
      "text/html": [
       "<div>\n",
       "<style scoped>\n",
       "    .dataframe tbody tr th:only-of-type {\n",
       "        vertical-align: middle;\n",
       "    }\n",
       "\n",
       "    .dataframe tbody tr th {\n",
       "        vertical-align: top;\n",
       "    }\n",
       "\n",
       "    .dataframe thead th {\n",
       "        text-align: right;\n",
       "    }\n",
       "</style>\n",
       "<table border=\"1\" class=\"dataframe\">\n",
       "  <thead>\n",
       "    <tr style=\"text-align: right;\">\n",
       "      <th></th>\n",
       "      <th>author_fullname</th>\n",
       "      <th>title</th>\n",
       "      <th>selftext</th>\n",
       "      <th>score</th>\n",
       "      <th>subreddit</th>\n",
       "    </tr>\n",
       "  </thead>\n",
       "  <tbody>\n",
       "    <tr>\n",
       "      <th>0</th>\n",
       "      <td>t2_38cndng5</td>\n",
       "      <td>Disc replacement</td>\n",
       "      <td>Not looking for medical advice just curious if...</td>\n",
       "      <td>1</td>\n",
       "      <td>orangetheory</td>\n",
       "    </tr>\n",
       "    <tr>\n",
       "      <th>1</th>\n",
       "      <td>t2_4k54qa7s</td>\n",
       "      <td>What are your cues that you need a few days off?</td>\n",
       "      <td>How can you tell when you need to take a few d...</td>\n",
       "      <td>3</td>\n",
       "      <td>orangetheory</td>\n",
       "    </tr>\n",
       "    <tr>\n",
       "      <th>2</th>\n",
       "      <td>t2_8162kxd9</td>\n",
       "      <td>Burnsville or Apple Valley MN studio</td>\n",
       "      <td>I will be in Lakeville MN next week, thinking ...</td>\n",
       "      <td>2</td>\n",
       "      <td>orangetheory</td>\n",
       "    </tr>\n",
       "    <tr>\n",
       "      <th>3</th>\n",
       "      <td>t2_ct4fexde</td>\n",
       "      <td>OTF… Feels like the 80’’s Highschool Cliche - ...</td>\n",
       "      <td>[removed]</td>\n",
       "      <td>1</td>\n",
       "      <td>orangetheory</td>\n",
       "    </tr>\n",
       "    <tr>\n",
       "      <th>4</th>\n",
       "      <td>t2_3wl9qh0n</td>\n",
       "      <td>Daily Workout and General Chat for Saturday, 6...</td>\n",
       "      <td>Use this post to discuss today's OTF workout o...</td>\n",
       "      <td>8</td>\n",
       "      <td>orangetheory</td>\n",
       "    </tr>\n",
       "  </tbody>\n",
       "</table>\n",
       "</div>"
      ],
      "text/plain": [
       "  author_fullname                                              title  \\\n",
       "0     t2_38cndng5                                   Disc replacement   \n",
       "1     t2_4k54qa7s   What are your cues that you need a few days off?   \n",
       "2     t2_8162kxd9               Burnsville or Apple Valley MN studio   \n",
       "3     t2_ct4fexde  OTF… Feels like the 80’’s Highschool Cliche - ...   \n",
       "4     t2_3wl9qh0n  Daily Workout and General Chat for Saturday, 6...   \n",
       "\n",
       "                                            selftext  score     subreddit  \n",
       "0  Not looking for medical advice just curious if...      1  orangetheory  \n",
       "1  How can you tell when you need to take a few d...      3  orangetheory  \n",
       "2  I will be in Lakeville MN next week, thinking ...      2  orangetheory  \n",
       "3                                          [removed]      1  orangetheory  \n",
       "4  Use this post to discuss today's OTF workout o...      8  orangetheory  "
      ]
     },
     "execution_count": 6,
     "metadata": {},
     "output_type": "execute_result"
    }
   ],
   "source": [
    "otf_df[['author_fullname','title', 'selftext', 'score', 'subreddit']].head()"
   ]
  },
  {
   "cell_type": "code",
   "execution_count": 7,
   "id": "e413c66a-19ac-426e-b614-7f3fc49eb83a",
   "metadata": {},
   "outputs": [],
   "source": [
    "# Saving OrangeTheory dataset\n",
    "otf_df.to_csv('datasets/orangetheory.csv', index=False)"
   ]
  },
  {
   "cell_type": "markdown",
   "id": "5ba62949-3497-419b-b1ac-53006ab81fef",
   "metadata": {},
   "source": [
    "##### CROSSFIT API CALLS (1000 POSTS)"
   ]
  },
  {
   "cell_type": "code",
   "execution_count": 8,
   "id": "57d217ce-0eab-458c-8436-f533b49afc0c",
   "metadata": {},
   "outputs": [
    {
     "name": "stdout",
     "output_type": "stream",
     "text": [
      "before updated to 1623863832\n",
      "before updated to 1623420820\n",
      "before updated to 1623069913\n",
      "before updated to 1622645908\n",
      "before updated to 1622242893\n",
      "before updated to 1621830189\n",
      "before updated to 1621355617\n",
      "before updated to 1620864789\n",
      "before updated to 1620413434\n",
      "before updated to 1619994953\n"
     ]
    }
   ],
   "source": [
    "# CROSSFIT API CALLS (1000 POSTS)\n",
    "\n",
    "url = \"https://api.pushshift.io/reddit/search/submission\"\n",
    "subreddit = 'crossfit'\n",
    "before = 1624032709\n",
    "\n",
    "cf_df_list = []\n",
    "\n",
    "for _ in range(10):\n",
    "    \n",
    "    params = {\n",
    "        'subreddit': subreddit,\n",
    "        'size': 100,\n",
    "        'before': before\n",
    "    }\n",
    "\n",
    "    res = requests.get(url, params=params)\n",
    "    json = res.json()\n",
    "    \n",
    "    before = json['data'][-1]['created_utc']\n",
    "    print(f\"before updated to {before}\")\n",
    "    \n",
    "    # need the 'data' from the json\n",
    "    dataframe = pd.DataFrame(res.json()['data'])\n",
    "    cf_df_list.append(dataframe)\n",
    "    \n",
    "    time.sleep(5)\n",
    "    \n",
    "# CREDIT -- adapted from Caroline Schmitt code-along practice."
   ]
  },
  {
   "cell_type": "code",
   "execution_count": 9,
   "id": "2f688823-f0c7-40d3-8660-8de540339008",
   "metadata": {},
   "outputs": [],
   "source": [
    "cf_df = pd.concat(cf_df_list).reset_index(drop=True)"
   ]
  },
  {
   "cell_type": "code",
   "execution_count": 10,
   "id": "8c515886-e6a5-4a6c-93f6-5bc0d5d7c6d6",
   "metadata": {},
   "outputs": [
    {
     "data": {
      "text/html": [
       "<div>\n",
       "<style scoped>\n",
       "    .dataframe tbody tr th:only-of-type {\n",
       "        vertical-align: middle;\n",
       "    }\n",
       "\n",
       "    .dataframe tbody tr th {\n",
       "        vertical-align: top;\n",
       "    }\n",
       "\n",
       "    .dataframe thead th {\n",
       "        text-align: right;\n",
       "    }\n",
       "</style>\n",
       "<table border=\"1\" class=\"dataframe\">\n",
       "  <thead>\n",
       "    <tr style=\"text-align: right;\">\n",
       "      <th></th>\n",
       "      <th>author_fullname</th>\n",
       "      <th>title</th>\n",
       "      <th>selftext</th>\n",
       "      <th>score</th>\n",
       "      <th>subreddit</th>\n",
       "    </tr>\n",
       "  </thead>\n",
       "  <tbody>\n",
       "    <tr>\n",
       "      <th>0</th>\n",
       "      <td>t2_csrgfn7p</td>\n",
       "      <td>Good morning! [F]eeling ready for anything big...</td>\n",
       "      <td></td>\n",
       "      <td>1</td>\n",
       "      <td>crossfit</td>\n",
       "    </tr>\n",
       "    <tr>\n",
       "      <th>1</th>\n",
       "      <td>t2_8nen3fhq</td>\n",
       "      <td>Training together! @unbrokenshopcom</td>\n",
       "      <td></td>\n",
       "      <td>4</td>\n",
       "      <td>crossfit</td>\n",
       "    </tr>\n",
       "    <tr>\n",
       "      <th>2</th>\n",
       "      <td>t2_csqpwk62</td>\n",
       "      <td>[f]reshly shaved just for GW</td>\n",
       "      <td></td>\n",
       "      <td>1</td>\n",
       "      <td>crossfit</td>\n",
       "    </tr>\n",
       "    <tr>\n",
       "      <th>3</th>\n",
       "      <td>t2_3dciap6h</td>\n",
       "      <td>Recovery post vasectomy</td>\n",
       "      <td>[removed]</td>\n",
       "      <td>1</td>\n",
       "      <td>crossfit</td>\n",
       "    </tr>\n",
       "    <tr>\n",
       "      <th>4</th>\n",
       "      <td>t2_csq03bf0</td>\n",
       "      <td>(F19) damn, I really disappeared huh, well, in...</td>\n",
       "      <td></td>\n",
       "      <td>1</td>\n",
       "      <td>crossfit</td>\n",
       "    </tr>\n",
       "  </tbody>\n",
       "</table>\n",
       "</div>"
      ],
      "text/plain": [
       "  author_fullname                                              title  \\\n",
       "0     t2_csrgfn7p  Good morning! [F]eeling ready for anything big...   \n",
       "1     t2_8nen3fhq                Training together! @unbrokenshopcom   \n",
       "2     t2_csqpwk62                       [f]reshly shaved just for GW   \n",
       "3     t2_3dciap6h                            Recovery post vasectomy   \n",
       "4     t2_csq03bf0  (F19) damn, I really disappeared huh, well, in...   \n",
       "\n",
       "    selftext  score subreddit  \n",
       "0                 1  crossfit  \n",
       "1                 4  crossfit  \n",
       "2                 1  crossfit  \n",
       "3  [removed]      1  crossfit  \n",
       "4                 1  crossfit  "
      ]
     },
     "execution_count": 10,
     "metadata": {},
     "output_type": "execute_result"
    }
   ],
   "source": [
    "cf_df[['author_fullname','title', 'selftext', 'score', 'subreddit']].head()"
   ]
  },
  {
   "cell_type": "code",
   "execution_count": 11,
   "id": "6095638e-d48f-485e-82b4-b1cf704a2b90",
   "metadata": {},
   "outputs": [],
   "source": [
    "# Saving Crossfit dataset\n",
    "cf_df.to_csv('datasets/crossfit.csv', index=False)"
   ]
  },
  {
   "cell_type": "markdown",
   "id": "69adc79b-1e5b-45ae-bccf-5bb466b69085",
   "metadata": {},
   "source": [
    "### Data Cleaning & EDA"
   ]
  },
  {
   "cell_type": "code",
   "execution_count": 12,
   "id": "e9751f4c-0e1a-40a0-a2f2-97d167285328",
   "metadata": {},
   "outputs": [
    {
     "data": {
      "text/plain": [
       "(1000, 80)"
      ]
     },
     "execution_count": 12,
     "metadata": {},
     "output_type": "execute_result"
    }
   ],
   "source": [
    "otf_df.shape"
   ]
  },
  {
   "cell_type": "code",
   "execution_count": 13,
   "id": "bbd8715a-58a3-494e-8740-f1698a9b5ee1",
   "metadata": {},
   "outputs": [
    {
     "data": {
      "text/plain": [
       "(1000, 76)"
      ]
     },
     "execution_count": 13,
     "metadata": {},
     "output_type": "execute_result"
    }
   ],
   "source": [
    "cf_df.shape"
   ]
  },
  {
   "cell_type": "code",
   "execution_count": 14,
   "id": "9dce0af6-695f-4c8b-81ae-3fcb83cac649",
   "metadata": {
    "tags": []
   },
   "outputs": [],
   "source": [
    "# Creating new dataframes with the columns I want\n",
    "\n",
    "otf_df = otf_df[['author_fullname','title', 'selftext', 'score', 'subreddit']]\n",
    "\n",
    "cf_df = cf_df[['author_fullname','title', 'selftext', 'score', 'subreddit']]"
   ]
  },
  {
   "cell_type": "code",
   "execution_count": 15,
   "id": "a6db0788-3ebd-4e68-9f19-6d145e2f2ad3",
   "metadata": {},
   "outputs": [],
   "source": [
    "# Combining newly created datafames into one dataframe \n",
    "\n",
    "gyms_df = pd.concat([otf_df, cf_df], ignore_index=True)"
   ]
  },
  {
   "cell_type": "code",
   "execution_count": 16,
   "id": "11b9a6c2-19eb-4c8b-bd86-056f3f5f46a6",
   "metadata": {},
   "outputs": [
    {
     "data": {
      "text/plain": [
       "(2000, 5)"
      ]
     },
     "execution_count": 16,
     "metadata": {},
     "output_type": "execute_result"
    }
   ],
   "source": [
    "gyms_df.shape"
   ]
  },
  {
   "cell_type": "code",
   "execution_count": 17,
   "id": "3e0afb94-3491-40ac-ba2e-13707e11db1a",
   "metadata": {},
   "outputs": [
    {
     "data": {
      "text/html": [
       "<div>\n",
       "<style scoped>\n",
       "    .dataframe tbody tr th:only-of-type {\n",
       "        vertical-align: middle;\n",
       "    }\n",
       "\n",
       "    .dataframe tbody tr th {\n",
       "        vertical-align: top;\n",
       "    }\n",
       "\n",
       "    .dataframe thead th {\n",
       "        text-align: right;\n",
       "    }\n",
       "</style>\n",
       "<table border=\"1\" class=\"dataframe\">\n",
       "  <thead>\n",
       "    <tr style=\"text-align: right;\">\n",
       "      <th></th>\n",
       "      <th>author_fullname</th>\n",
       "      <th>title</th>\n",
       "      <th>selftext</th>\n",
       "      <th>score</th>\n",
       "      <th>subreddit</th>\n",
       "    </tr>\n",
       "  </thead>\n",
       "  <tbody>\n",
       "    <tr>\n",
       "      <th>0</th>\n",
       "      <td>t2_38cndng5</td>\n",
       "      <td>Disc replacement</td>\n",
       "      <td>Not looking for medical advice just curious if...</td>\n",
       "      <td>1</td>\n",
       "      <td>orangetheory</td>\n",
       "    </tr>\n",
       "    <tr>\n",
       "      <th>1</th>\n",
       "      <td>t2_4k54qa7s</td>\n",
       "      <td>What are your cues that you need a few days off?</td>\n",
       "      <td>How can you tell when you need to take a few d...</td>\n",
       "      <td>3</td>\n",
       "      <td>orangetheory</td>\n",
       "    </tr>\n",
       "    <tr>\n",
       "      <th>2</th>\n",
       "      <td>t2_8162kxd9</td>\n",
       "      <td>Burnsville or Apple Valley MN studio</td>\n",
       "      <td>I will be in Lakeville MN next week, thinking ...</td>\n",
       "      <td>2</td>\n",
       "      <td>orangetheory</td>\n",
       "    </tr>\n",
       "    <tr>\n",
       "      <th>3</th>\n",
       "      <td>t2_ct4fexde</td>\n",
       "      <td>OTF… Feels like the 80’’s Highschool Cliche - ...</td>\n",
       "      <td>[removed]</td>\n",
       "      <td>1</td>\n",
       "      <td>orangetheory</td>\n",
       "    </tr>\n",
       "    <tr>\n",
       "      <th>4</th>\n",
       "      <td>t2_3wl9qh0n</td>\n",
       "      <td>Daily Workout and General Chat for Saturday, 6...</td>\n",
       "      <td>Use this post to discuss today's OTF workout o...</td>\n",
       "      <td>8</td>\n",
       "      <td>orangetheory</td>\n",
       "    </tr>\n",
       "  </tbody>\n",
       "</table>\n",
       "</div>"
      ],
      "text/plain": [
       "  author_fullname                                              title  \\\n",
       "0     t2_38cndng5                                   Disc replacement   \n",
       "1     t2_4k54qa7s   What are your cues that you need a few days off?   \n",
       "2     t2_8162kxd9               Burnsville or Apple Valley MN studio   \n",
       "3     t2_ct4fexde  OTF… Feels like the 80’’s Highschool Cliche - ...   \n",
       "4     t2_3wl9qh0n  Daily Workout and General Chat for Saturday, 6...   \n",
       "\n",
       "                                            selftext  score     subreddit  \n",
       "0  Not looking for medical advice just curious if...      1  orangetheory  \n",
       "1  How can you tell when you need to take a few d...      3  orangetheory  \n",
       "2  I will be in Lakeville MN next week, thinking ...      2  orangetheory  \n",
       "3                                          [removed]      1  orangetheory  \n",
       "4  Use this post to discuss today's OTF workout o...      8  orangetheory  "
      ]
     },
     "execution_count": 17,
     "metadata": {},
     "output_type": "execute_result"
    }
   ],
   "source": [
    "gyms_df.head()"
   ]
  },
  {
   "cell_type": "code",
   "execution_count": 18,
   "id": "c107475f-9c13-456c-a673-1deec283fb2d",
   "metadata": {
    "tags": []
   },
   "outputs": [
    {
     "name": "stdout",
     "output_type": "stream",
     "text": [
      "<class 'pandas.core.frame.DataFrame'>\n",
      "RangeIndex: 2000 entries, 0 to 1999\n",
      "Data columns (total 5 columns):\n",
      " #   Column           Non-Null Count  Dtype \n",
      "---  ------           --------------  ----- \n",
      " 0   author_fullname  1980 non-null   object\n",
      " 1   title            2000 non-null   object\n",
      " 2   selftext         1998 non-null   object\n",
      " 3   score            2000 non-null   int64 \n",
      " 4   subreddit        2000 non-null   object\n",
      "dtypes: int64(1), object(4)\n",
      "memory usage: 78.2+ KB\n"
     ]
    }
   ],
   "source": [
    "gyms_df.info()"
   ]
  },
  {
   "cell_type": "code",
   "execution_count": 95,
   "id": "0136f9aa-2c06-41ba-96c2-33b50754e2e5",
   "metadata": {
    "collapsed": true,
    "jupyter": {
     "outputs_hidden": true
    },
    "tags": []
   },
   "outputs": [
    {
     "data": {
      "text/html": [
       "<div>\n",
       "<style scoped>\n",
       "    .dataframe tbody tr th:only-of-type {\n",
       "        vertical-align: middle;\n",
       "    }\n",
       "\n",
       "    .dataframe tbody tr th {\n",
       "        vertical-align: top;\n",
       "    }\n",
       "\n",
       "    .dataframe thead th {\n",
       "        text-align: right;\n",
       "    }\n",
       "</style>\n",
       "<table border=\"1\" class=\"dataframe\">\n",
       "  <thead>\n",
       "    <tr style=\"text-align: right;\">\n",
       "      <th></th>\n",
       "      <th>score</th>\n",
       "      <th>sub_value</th>\n",
       "      <th>title_length</th>\n",
       "      <th>selftext_length</th>\n",
       "      <th>title_word_count</th>\n",
       "      <th>selftext_word_count</th>\n",
       "    </tr>\n",
       "  </thead>\n",
       "  <tbody>\n",
       "    <tr>\n",
       "      <th>count</th>\n",
       "      <td>1964.000000</td>\n",
       "      <td>1964.000000</td>\n",
       "      <td>1964.000000</td>\n",
       "      <td>1964.000000</td>\n",
       "      <td>1964.000000</td>\n",
       "      <td>1964.00000</td>\n",
       "    </tr>\n",
       "    <tr>\n",
       "      <th>mean</th>\n",
       "      <td>3.806517</td>\n",
       "      <td>0.502546</td>\n",
       "      <td>41.633910</td>\n",
       "      <td>296.705703</td>\n",
       "      <td>7.466904</td>\n",
       "      <td>56.63391</td>\n",
       "    </tr>\n",
       "    <tr>\n",
       "      <th>std</th>\n",
       "      <td>20.007570</td>\n",
       "      <td>0.500121</td>\n",
       "      <td>34.114531</td>\n",
       "      <td>438.423344</td>\n",
       "      <td>6.508463</td>\n",
       "      <td>85.43157</td>\n",
       "    </tr>\n",
       "    <tr>\n",
       "      <th>min</th>\n",
       "      <td>0.000000</td>\n",
       "      <td>0.000000</td>\n",
       "      <td>2.000000</td>\n",
       "      <td>0.000000</td>\n",
       "      <td>1.000000</td>\n",
       "      <td>0.00000</td>\n",
       "    </tr>\n",
       "    <tr>\n",
       "      <th>25%</th>\n",
       "      <td>1.000000</td>\n",
       "      <td>0.000000</td>\n",
       "      <td>21.000000</td>\n",
       "      <td>0.000000</td>\n",
       "      <td>4.000000</td>\n",
       "      <td>0.00000</td>\n",
       "    </tr>\n",
       "    <tr>\n",
       "      <th>50%</th>\n",
       "      <td>1.000000</td>\n",
       "      <td>1.000000</td>\n",
       "      <td>32.000000</td>\n",
       "      <td>154.000000</td>\n",
       "      <td>6.000000</td>\n",
       "      <td>29.00000</td>\n",
       "    </tr>\n",
       "    <tr>\n",
       "      <th>75%</th>\n",
       "      <td>1.000000</td>\n",
       "      <td>1.000000</td>\n",
       "      <td>51.000000</td>\n",
       "      <td>438.250000</td>\n",
       "      <td>9.000000</td>\n",
       "      <td>80.00000</td>\n",
       "    </tr>\n",
       "    <tr>\n",
       "      <th>max</th>\n",
       "      <td>315.000000</td>\n",
       "      <td>1.000000</td>\n",
       "      <td>299.000000</td>\n",
       "      <td>3950.000000</td>\n",
       "      <td>60.000000</td>\n",
       "      <td>700.00000</td>\n",
       "    </tr>\n",
       "  </tbody>\n",
       "</table>\n",
       "</div>"
      ],
      "text/plain": [
       "             score    sub_value  title_length  selftext_length  \\\n",
       "count  1964.000000  1964.000000   1964.000000      1964.000000   \n",
       "mean      3.806517     0.502546     41.633910       296.705703   \n",
       "std      20.007570     0.500121     34.114531       438.423344   \n",
       "min       0.000000     0.000000      2.000000         0.000000   \n",
       "25%       1.000000     0.000000     21.000000         0.000000   \n",
       "50%       1.000000     1.000000     32.000000       154.000000   \n",
       "75%       1.000000     1.000000     51.000000       438.250000   \n",
       "max     315.000000     1.000000    299.000000      3950.000000   \n",
       "\n",
       "       title_word_count  selftext_word_count  \n",
       "count       1964.000000           1964.00000  \n",
       "mean           7.466904             56.63391  \n",
       "std            6.508463             85.43157  \n",
       "min            1.000000              0.00000  \n",
       "25%            4.000000              0.00000  \n",
       "50%            6.000000             29.00000  \n",
       "75%            9.000000             80.00000  \n",
       "max           60.000000            700.00000  "
      ]
     },
     "execution_count": 95,
     "metadata": {},
     "output_type": "execute_result"
    }
   ],
   "source": [
    "gyms_df.describe()"
   ]
  },
  {
   "cell_type": "code",
   "execution_count": 20,
   "id": "ec1f17d6-709c-4c86-bc38-ece0f46e9184",
   "metadata": {},
   "outputs": [
    {
     "data": {
      "text/plain": [
       "author_fullname    20\n",
       "selftext            2\n",
       "title               0\n",
       "score               0\n",
       "subreddit           0\n",
       "dtype: int64"
      ]
     },
     "execution_count": 20,
     "metadata": {},
     "output_type": "execute_result"
    }
   ],
   "source": [
    "gyms_df.isnull().sum().sort_values(ascending=False)"
   ]
  },
  {
   "cell_type": "code",
   "execution_count": 21,
   "id": "f0745a7a-cd47-4285-bf4b-d6a2cb963d8a",
   "metadata": {},
   "outputs": [
    {
     "data": {
      "text/plain": [
       "16"
      ]
     },
     "execution_count": 21,
     "metadata": {},
     "output_type": "execute_result"
    }
   ],
   "source": [
    "gyms_df.duplicated().sum()"
   ]
  },
  {
   "cell_type": "code",
   "execution_count": 22,
   "id": "83949469-201c-4204-b8fb-4c7cff166051",
   "metadata": {},
   "outputs": [
    {
     "data": {
      "text/plain": [
       "crossfit        1000\n",
       "orangetheory    1000\n",
       "Name: subreddit, dtype: int64"
      ]
     },
     "execution_count": 22,
     "metadata": {},
     "output_type": "execute_result"
    }
   ],
   "source": [
    "gyms_df['subreddit'].value_counts()"
   ]
  },
  {
   "cell_type": "code",
   "execution_count": 23,
   "id": "57b8fc6e-96e6-49dc-9c8b-88b28e3c1316",
   "metadata": {},
   "outputs": [],
   "source": [
    "# Dropping duplicate rows (16 duplicates) and resetting the index\n",
    "gyms_df.drop_duplicates(keep='first', inplace=True)\n",
    "\n",
    "gyms_df.reset_index(drop=True, inplace=True)"
   ]
  },
  {
   "cell_type": "code",
   "execution_count": 24,
   "id": "7bc7fc03-51cf-47ee-a143-868f5dd1af23",
   "metadata": {
    "tags": []
   },
   "outputs": [],
   "source": [
    "# Dropping rows with null values (20 rows)\n",
    "gyms_df[gyms_df['author_fullname'].isna()]\n",
    "\n",
    "gyms_df.drop(gyms_df[gyms_df['author_fullname'].isna()].index, inplace=True)"
   ]
  },
  {
   "cell_type": "code",
   "execution_count": 25,
   "id": "045a0c63-7f79-4c1b-bf92-58e47425cb59",
   "metadata": {},
   "outputs": [
    {
     "data": {
      "text/html": [
       "<div>\n",
       "<style scoped>\n",
       "    .dataframe tbody tr th:only-of-type {\n",
       "        vertical-align: middle;\n",
       "    }\n",
       "\n",
       "    .dataframe tbody tr th {\n",
       "        vertical-align: top;\n",
       "    }\n",
       "\n",
       "    .dataframe thead th {\n",
       "        text-align: right;\n",
       "    }\n",
       "</style>\n",
       "<table border=\"1\" class=\"dataframe\">\n",
       "  <thead>\n",
       "    <tr style=\"text-align: right;\">\n",
       "      <th></th>\n",
       "      <th>author_fullname</th>\n",
       "      <th>title</th>\n",
       "      <th>selftext</th>\n",
       "      <th>score</th>\n",
       "      <th>subreddit</th>\n",
       "    </tr>\n",
       "  </thead>\n",
       "  <tbody>\n",
       "    <tr>\n",
       "      <th>3</th>\n",
       "      <td>t2_ct4fexde</td>\n",
       "      <td>OTF… Feels like the 80’’s Highschool Cliche - ...</td>\n",
       "      <td>[removed]</td>\n",
       "      <td>1</td>\n",
       "      <td>orangetheory</td>\n",
       "    </tr>\n",
       "    <tr>\n",
       "      <th>5</th>\n",
       "      <td>t2_cbi9mb4l</td>\n",
       "      <td>What does this blue clock no number mean?</td>\n",
       "      <td></td>\n",
       "      <td>0</td>\n",
       "      <td>orangetheory</td>\n",
       "    </tr>\n",
       "    <tr>\n",
       "      <th>6</th>\n",
       "      <td>t2_cssfpylr</td>\n",
       "      <td>💜 Sex 💝 Server 💞</td>\n",
       "      <td></td>\n",
       "      <td>1</td>\n",
       "      <td>orangetheory</td>\n",
       "    </tr>\n",
       "    <tr>\n",
       "      <th>15</th>\n",
       "      <td>t2_4z7tdy6l</td>\n",
       "      <td>New studio in Tampa!</td>\n",
       "      <td></td>\n",
       "      <td>2</td>\n",
       "      <td>orangetheory</td>\n",
       "    </tr>\n",
       "    <tr>\n",
       "      <th>27</th>\n",
       "      <td>t2_6pcbagcd</td>\n",
       "      <td>Lower leg muscle knots</td>\n",
       "      <td>[removed]</td>\n",
       "      <td>1</td>\n",
       "      <td>orangetheory</td>\n",
       "    </tr>\n",
       "    <tr>\n",
       "      <th>...</th>\n",
       "      <td>...</td>\n",
       "      <td>...</td>\n",
       "      <td>...</td>\n",
       "      <td>...</td>\n",
       "      <td>...</td>\n",
       "    </tr>\n",
       "    <tr>\n",
       "      <th>1976</th>\n",
       "      <td>t2_rrr1s</td>\n",
       "      <td>CrossFit 2020 documentary trailer</td>\n",
       "      <td>[removed]</td>\n",
       "      <td>1</td>\n",
       "      <td>crossfit</td>\n",
       "    </tr>\n",
       "    <tr>\n",
       "      <th>1978</th>\n",
       "      <td>t2_9k2bitr2</td>\n",
       "      <td>Josh Matt Sevan</td>\n",
       "      <td>[removed]</td>\n",
       "      <td>1</td>\n",
       "      <td>crossfit</td>\n",
       "    </tr>\n",
       "    <tr>\n",
       "      <th>1980</th>\n",
       "      <td>t2_9f0qx03x</td>\n",
       "      <td>CrossFit Gyms near Ashburn, VA?</td>\n",
       "      <td>[removed]</td>\n",
       "      <td>1</td>\n",
       "      <td>crossfit</td>\n",
       "    </tr>\n",
       "    <tr>\n",
       "      <th>1981</th>\n",
       "      <td>t2_jha4a</td>\n",
       "      <td>Resources of servicing/repairing airdyne ad4</td>\n",
       "      <td>[removed]</td>\n",
       "      <td>1</td>\n",
       "      <td>crossfit</td>\n",
       "    </tr>\n",
       "    <tr>\n",
       "      <th>1982</th>\n",
       "      <td>t2_9izc2ki7</td>\n",
       "      <td>Recommended workout shirt?</td>\n",
       "      <td>[removed]</td>\n",
       "      <td>1</td>\n",
       "      <td>crossfit</td>\n",
       "    </tr>\n",
       "  </tbody>\n",
       "</table>\n",
       "<p>779 rows × 5 columns</p>\n",
       "</div>"
      ],
      "text/plain": [
       "     author_fullname                                              title  \\\n",
       "3        t2_ct4fexde  OTF… Feels like the 80’’s Highschool Cliche - ...   \n",
       "5        t2_cbi9mb4l          What does this blue clock no number mean?   \n",
       "6        t2_cssfpylr                                   💜 Sex 💝 Server 💞   \n",
       "15       t2_4z7tdy6l                               New studio in Tampa!   \n",
       "27       t2_6pcbagcd                             Lower leg muscle knots   \n",
       "...              ...                                                ...   \n",
       "1976        t2_rrr1s                  CrossFit 2020 documentary trailer   \n",
       "1978     t2_9k2bitr2                                    Josh Matt Sevan   \n",
       "1980     t2_9f0qx03x                    CrossFit Gyms near Ashburn, VA?   \n",
       "1981        t2_jha4a       Resources of servicing/repairing airdyne ad4   \n",
       "1982     t2_9izc2ki7                         Recommended workout shirt?   \n",
       "\n",
       "       selftext  score     subreddit  \n",
       "3     [removed]      1  orangetheory  \n",
       "5                    0  orangetheory  \n",
       "6                    1  orangetheory  \n",
       "15                   2  orangetheory  \n",
       "27    [removed]      1  orangetheory  \n",
       "...         ...    ...           ...  \n",
       "1976  [removed]      1      crossfit  \n",
       "1978  [removed]      1      crossfit  \n",
       "1980  [removed]      1      crossfit  \n",
       "1981  [removed]      1      crossfit  \n",
       "1982  [removed]      1      crossfit  \n",
       "\n",
       "[779 rows x 5 columns]"
      ]
     },
     "execution_count": 25,
     "metadata": {},
     "output_type": "execute_result"
    }
   ],
   "source": [
    "# 779 rows with 'selftext' column either removed, deleted, or empty\n",
    "gyms_df[(gyms_df['selftext'] == '')|(gyms_df['selftext'] == '[removed]')|(gyms_df['selftext'] == '[deleted]')]"
   ]
  },
  {
   "cell_type": "code",
   "execution_count": 26,
   "id": "949db791-1eff-425e-bba1-234b5b156211",
   "metadata": {},
   "outputs": [],
   "source": [
    "# Replacing [removed] and [deleted] values in 'selftext' column with empty string\n",
    "gyms_df['selftext'].replace({'[removed]': '', '[deleted]': ''}, inplace=True)"
   ]
  },
  {
   "cell_type": "code",
   "execution_count": 27,
   "id": "d3b6518c-f1f8-47d8-9b55-70084405cfaf",
   "metadata": {},
   "outputs": [],
   "source": [
    "# Creating target feature column\n",
    "gyms_df['sub_value'] = gyms_df['subreddit'].map({'orangetheory': 1, 'crossfit': 0})"
   ]
  },
  {
   "cell_type": "code",
   "execution_count": 28,
   "id": "fd90d3ab-ff2e-476e-8f05-f4c7d3777c73",
   "metadata": {},
   "outputs": [
    {
     "data": {
      "text/plain": [
       "(1964, 6)"
      ]
     },
     "execution_count": 28,
     "metadata": {},
     "output_type": "execute_result"
    }
   ],
   "source": [
    "gyms_df.shape"
   ]
  },
  {
   "cell_type": "code",
   "execution_count": 29,
   "id": "36f1d9f5-9701-49bc-8d6f-ef5afc327c6b",
   "metadata": {},
   "outputs": [],
   "source": [
    "# Function to clean up posts\n",
    "# Adapted from : https://towardsdatascience.com/nlp-building-text-cleanup-and-preprocessing-pipeline-eba4095245a0\n",
    "\n",
    "def clean_post(post):\n",
    "    # Remove HTML \n",
    "    post = re.sub(r'\\&\\w*;', '', post)\n",
    "    # lowercase\n",
    "    post = post.lower()\n",
    "    # Remove hyperlinks\n",
    "    post = re.sub(r'https?:\\/\\/.*\\/\\w*', '', post)\n",
    "    # Remove whitespace\n",
    "    post = re.sub(r'\\s\\s+', ' ', post)\n",
    "    # Remove single space at front of post\n",
    "    post = post.lstrip(' ') \n",
    "    return post\n"
   ]
  },
  {
   "cell_type": "code",
   "execution_count": 30,
   "id": "b8ef1f05-8813-4e8f-b088-dbd1cf9e9eda",
   "metadata": {},
   "outputs": [],
   "source": [
    "# clean posts for gyms_df \n",
    "\n",
    "gyms_df['title'] = gyms_df['title'].map(clean_post)\n",
    "gyms_df['selftext'] = gyms_df['selftext'].map(clean_post)\n"
   ]
  },
  {
   "cell_type": "markdown",
   "id": "b24e22d5-18d9-4594-a734-ef0f70830312",
   "metadata": {},
   "source": [
    "#### Distributions"
   ]
  },
  {
   "cell_type": "code",
   "execution_count": 167,
   "id": "4e00077f-fd62-42c6-a9d3-fc5cf147bbbd",
   "metadata": {},
   "outputs": [
    {
     "data": {
      "text/html": [
       "<div>\n",
       "<style scoped>\n",
       "    .dataframe tbody tr th:only-of-type {\n",
       "        vertical-align: middle;\n",
       "    }\n",
       "\n",
       "    .dataframe tbody tr th {\n",
       "        vertical-align: top;\n",
       "    }\n",
       "\n",
       "    .dataframe thead th {\n",
       "        text-align: right;\n",
       "    }\n",
       "</style>\n",
       "<table border=\"1\" class=\"dataframe\">\n",
       "  <thead>\n",
       "    <tr style=\"text-align: right;\">\n",
       "      <th></th>\n",
       "      <th>word</th>\n",
       "      <th>count</th>\n",
       "      <th>freq</th>\n",
       "    </tr>\n",
       "  </thead>\n",
       "  <tbody>\n",
       "    <tr>\n",
       "      <th>0</th>\n",
       "      <td>otf</td>\n",
       "      <td>91</td>\n",
       "      <td>9.1</td>\n",
       "    </tr>\n",
       "    <tr>\n",
       "      <th>1</th>\n",
       "      <td>class</td>\n",
       "      <td>65</td>\n",
       "      <td>6.5</td>\n",
       "    </tr>\n",
       "    <tr>\n",
       "      <th>2</th>\n",
       "      <td>workout</td>\n",
       "      <td>54</td>\n",
       "      <td>5.4</td>\n",
       "    </tr>\n",
       "    <tr>\n",
       "      <th>3</th>\n",
       "      <td>21</td>\n",
       "      <td>39</td>\n",
       "      <td>3.9</td>\n",
       "    </tr>\n",
       "    <tr>\n",
       "      <th>4</th>\n",
       "      <td>2g</td>\n",
       "      <td>38</td>\n",
       "      <td>3.8</td>\n",
       "    </tr>\n",
       "    <tr>\n",
       "      <th>5</th>\n",
       "      <td>2021</td>\n",
       "      <td>38</td>\n",
       "      <td>3.8</td>\n",
       "    </tr>\n",
       "    <tr>\n",
       "      <th>6</th>\n",
       "      <td>60</td>\n",
       "      <td>36</td>\n",
       "      <td>3.6</td>\n",
       "    </tr>\n",
       "    <tr>\n",
       "      <th>7</th>\n",
       "      <td>mayhem</td>\n",
       "      <td>35</td>\n",
       "      <td>3.5</td>\n",
       "    </tr>\n",
       "    <tr>\n",
       "      <th>8</th>\n",
       "      <td>benchmark</td>\n",
       "      <td>35</td>\n",
       "      <td>3.5</td>\n",
       "    </tr>\n",
       "    <tr>\n",
       "      <th>9</th>\n",
       "      <td>mile</td>\n",
       "      <td>34</td>\n",
       "      <td>3.4</td>\n",
       "    </tr>\n",
       "    <tr>\n",
       "      <th>10</th>\n",
       "      <td>minutes</td>\n",
       "      <td>33</td>\n",
       "      <td>3.3</td>\n",
       "    </tr>\n",
       "    <tr>\n",
       "      <th>11</th>\n",
       "      <td>classes</td>\n",
       "      <td>33</td>\n",
       "      <td>3.3</td>\n",
       "    </tr>\n",
       "    <tr>\n",
       "      <th>12</th>\n",
       "      <td>june</td>\n",
       "      <td>32</td>\n",
       "      <td>3.2</td>\n",
       "    </tr>\n",
       "    <tr>\n",
       "      <th>13</th>\n",
       "      <td>challenge</td>\n",
       "      <td>31</td>\n",
       "      <td>3.1</td>\n",
       "    </tr>\n",
       "    <tr>\n",
       "      <th>14</th>\n",
       "      <td>3g</td>\n",
       "      <td>29</td>\n",
       "      <td>2.9</td>\n",
       "    </tr>\n",
       "    <tr>\n",
       "      <th>15</th>\n",
       "      <td>chat</td>\n",
       "      <td>29</td>\n",
       "      <td>2.9</td>\n",
       "    </tr>\n",
       "    <tr>\n",
       "      <th>16</th>\n",
       "      <td>daily</td>\n",
       "      <td>29</td>\n",
       "      <td>2.9</td>\n",
       "    </tr>\n",
       "    <tr>\n",
       "      <th>17</th>\n",
       "      <td>general</td>\n",
       "      <td>28</td>\n",
       "      <td>2.8</td>\n",
       "    </tr>\n",
       "    <tr>\n",
       "      <th>18</th>\n",
       "      <td>studio</td>\n",
       "      <td>27</td>\n",
       "      <td>2.7</td>\n",
       "    </tr>\n",
       "    <tr>\n",
       "      <th>19</th>\n",
       "      <td>question</td>\n",
       "      <td>24</td>\n",
       "      <td>2.4</td>\n",
       "    </tr>\n",
       "  </tbody>\n",
       "</table>\n",
       "</div>"
      ],
      "text/plain": [
       "         word  count  freq\n",
       "0         otf     91   9.1\n",
       "1       class     65   6.5\n",
       "2     workout     54   5.4\n",
       "3          21     39   3.9\n",
       "4          2g     38   3.8\n",
       "5        2021     38   3.8\n",
       "6          60     36   3.6\n",
       "7      mayhem     35   3.5\n",
       "8   benchmark     35   3.5\n",
       "9        mile     34   3.4\n",
       "10    minutes     33   3.3\n",
       "11    classes     33   3.3\n",
       "12       june     32   3.2\n",
       "13  challenge     31   3.1\n",
       "14         3g     29   2.9\n",
       "15       chat     29   2.9\n",
       "16      daily     29   2.9\n",
       "17    general     28   2.8\n",
       "18     studio     27   2.7\n",
       "19   question     24   2.4"
      ]
     },
     "execution_count": 167,
     "metadata": {},
     "output_type": "execute_result"
    }
   ],
   "source": [
    "# top 20 words in otf_df\n",
    "\n",
    "cvec = CountVectorizer(stop_words='english')\n",
    "cvec.fit(otf_df['title'])\n",
    "\n",
    "otf_df_cv = pd.DataFrame(cvec.transform(otf_df['title']).todense(),columns=cvec.get_feature_names())\n",
    "top_otf = otf_df_cv.sum(axis=0).sort_values(ascending=False)\n",
    "\n",
    "df_top_otf = top_otf.to_frame(name='count')\n",
    "df_top_otf['word'] = df_top_otf.index\n",
    "df_top_otf.reset_index(drop=True, inplace=True)\n",
    "df_top_otf['freq'] = df_top_otf['count'] / len(otf_df) * 100\n",
    "\n",
    "cols = ['word','count','freq']\n",
    "df_top_otf = df_top_otf[cols]\n",
    "df_top_otf.sort_values(by='count',ascending=False, inplace=True)\n",
    "df_top_otf.head(20)"
   ]
  },
  {
   "cell_type": "code",
   "execution_count": 171,
   "id": "cd9cee36-36e3-42d9-9c65-9c8adc59ddbc",
   "metadata": {},
   "outputs": [
    {
     "data": {
      "image/png": "[encoded data removed]",
      "text/plain": [
       "<Figure size 720x360 with 1 Axes>"
      ]
     },
     "metadata": {
      "needs_background": "light"
     },
     "output_type": "display_data"
    }
   ],
   "source": [
    "# PLot OTF top 20 words\n",
    "plt.figure(figsize=(10,5))\n",
    "sns.barplot(data=df_top_otf.head(20),x='freq',y='word',orient='h')\n",
    "\n",
    "plt.title('Orange Theory Fitness: Top 20 Words',fontsize=25)\n",
    "plt.xlabel('frequency (%)',fontsize=20)\n",
    "plt.ylabel('word',fontsize=20)\n",
    "plt.tick_params(labelsize=15);\n",
    "\n",
    "plt.savefig('images/top_words_otf.png')"
   ]
  },
  {
   "cell_type": "code",
   "execution_count": 168,
   "id": "08f5e8ed-647f-4ae7-b60d-2f520ee12a43",
   "metadata": {},
   "outputs": [
    {
     "data": {
      "text/html": [
       "<div>\n",
       "<style scoped>\n",
       "    .dataframe tbody tr th:only-of-type {\n",
       "        vertical-align: middle;\n",
       "    }\n",
       "\n",
       "    .dataframe tbody tr th {\n",
       "        vertical-align: top;\n",
       "    }\n",
       "\n",
       "    .dataframe thead th {\n",
       "        text-align: right;\n",
       "    }\n",
       "</style>\n",
       "<table border=\"1\" class=\"dataframe\">\n",
       "  <thead>\n",
       "    <tr style=\"text-align: right;\">\n",
       "      <th></th>\n",
       "      <th>word</th>\n",
       "      <th>count</th>\n",
       "      <th>freq</th>\n",
       "    </tr>\n",
       "  </thead>\n",
       "  <tbody>\n",
       "    <tr>\n",
       "      <th>0</th>\n",
       "      <td>crossfit</td>\n",
       "      <td>139</td>\n",
       "      <td>13.9</td>\n",
       "    </tr>\n",
       "    <tr>\n",
       "      <th>1</th>\n",
       "      <td>2021</td>\n",
       "      <td>37</td>\n",
       "      <td>3.7</td>\n",
       "    </tr>\n",
       "    <tr>\n",
       "      <th>2</th>\n",
       "      <td>new</td>\n",
       "      <td>35</td>\n",
       "      <td>3.5</td>\n",
       "    </tr>\n",
       "    <tr>\n",
       "      <th>3</th>\n",
       "      <td>gym</td>\n",
       "      <td>35</td>\n",
       "      <td>3.5</td>\n",
       "    </tr>\n",
       "    <tr>\n",
       "      <th>4</th>\n",
       "      <td>workout</td>\n",
       "      <td>33</td>\n",
       "      <td>3.3</td>\n",
       "    </tr>\n",
       "    <tr>\n",
       "      <th>5</th>\n",
       "      <td>day</td>\n",
       "      <td>30</td>\n",
       "      <td>3.0</td>\n",
       "    </tr>\n",
       "    <tr>\n",
       "      <th>6</th>\n",
       "      <td>time</td>\n",
       "      <td>27</td>\n",
       "      <td>2.7</td>\n",
       "    </tr>\n",
       "    <tr>\n",
       "      <th>7</th>\n",
       "      <td>training</td>\n",
       "      <td>27</td>\n",
       "      <td>2.7</td>\n",
       "    </tr>\n",
       "    <tr>\n",
       "      <th>8</th>\n",
       "      <td>help</td>\n",
       "      <td>26</td>\n",
       "      <td>2.6</td>\n",
       "    </tr>\n",
       "    <tr>\n",
       "      <th>9</th>\n",
       "      <td>box</td>\n",
       "      <td>26</td>\n",
       "      <td>2.6</td>\n",
       "    </tr>\n",
       "    <tr>\n",
       "      <th>11</th>\n",
       "      <td>murph</td>\n",
       "      <td>25</td>\n",
       "      <td>2.5</td>\n",
       "    </tr>\n",
       "    <tr>\n",
       "      <th>10</th>\n",
       "      <td>muscle</td>\n",
       "      <td>25</td>\n",
       "      <td>2.5</td>\n",
       "    </tr>\n",
       "    <tr>\n",
       "      <th>12</th>\n",
       "      <td>games</td>\n",
       "      <td>23</td>\n",
       "      <td>2.3</td>\n",
       "    </tr>\n",
       "    <tr>\n",
       "      <th>13</th>\n",
       "      <td>like</td>\n",
       "      <td>23</td>\n",
       "      <td>2.3</td>\n",
       "    </tr>\n",
       "    <tr>\n",
       "      <th>14</th>\n",
       "      <td>amp</td>\n",
       "      <td>23</td>\n",
       "      <td>2.3</td>\n",
       "    </tr>\n",
       "    <tr>\n",
       "      <th>15</th>\n",
       "      <td>did</td>\n",
       "      <td>23</td>\n",
       "      <td>2.3</td>\n",
       "    </tr>\n",
       "    <tr>\n",
       "      <th>16</th>\n",
       "      <td>tips</td>\n",
       "      <td>22</td>\n",
       "      <td>2.2</td>\n",
       "    </tr>\n",
       "    <tr>\n",
       "      <th>17</th>\n",
       "      <td>got</td>\n",
       "      <td>22</td>\n",
       "      <td>2.2</td>\n",
       "    </tr>\n",
       "    <tr>\n",
       "      <th>18</th>\n",
       "      <td>know</td>\n",
       "      <td>22</td>\n",
       "      <td>2.2</td>\n",
       "    </tr>\n",
       "    <tr>\n",
       "      <th>19</th>\n",
       "      <td>just</td>\n",
       "      <td>21</td>\n",
       "      <td>2.1</td>\n",
       "    </tr>\n",
       "  </tbody>\n",
       "</table>\n",
       "</div>"
      ],
      "text/plain": [
       "        word  count  freq\n",
       "0   crossfit    139  13.9\n",
       "1       2021     37   3.7\n",
       "2        new     35   3.5\n",
       "3        gym     35   3.5\n",
       "4    workout     33   3.3\n",
       "5        day     30   3.0\n",
       "6       time     27   2.7\n",
       "7   training     27   2.7\n",
       "8       help     26   2.6\n",
       "9        box     26   2.6\n",
       "11     murph     25   2.5\n",
       "10    muscle     25   2.5\n",
       "12     games     23   2.3\n",
       "13      like     23   2.3\n",
       "14       amp     23   2.3\n",
       "15       did     23   2.3\n",
       "16      tips     22   2.2\n",
       "17       got     22   2.2\n",
       "18      know     22   2.2\n",
       "19      just     21   2.1"
      ]
     },
     "execution_count": 168,
     "metadata": {},
     "output_type": "execute_result"
    }
   ],
   "source": [
    "# top 20 words in cf_df\n",
    "\n",
    "cvec = CountVectorizer(stop_words='english')\n",
    "cvec.fit(cf_df['title'])\n",
    "\n",
    "cf_df_cv = pd.DataFrame(cvec.transform(cf_df['title']).todense(),columns=cvec.get_feature_names())\n",
    "top_cf = cf_df_cv.sum(axis=0).sort_values(ascending = False).head(20)\n",
    "\n",
    "df_top_cf = top_cf.to_frame(name='count')\n",
    "df_top_cf['word'] = df_top_cf.index\n",
    "df_top_cf.reset_index(drop=True, inplace=True)\n",
    "df_top_cf['freq'] = df_top_cf['count'] / len(cf_df) * 100\n",
    "\n",
    "cols = ['word','count','freq']\n",
    "df_top_cf = df_top_cf[cols]\n",
    "df_top_cf.sort_values(by='count',ascending=False, inplace=True)\n",
    "df_top_cf.head(20)"
   ]
  },
  {
   "cell_type": "code",
   "execution_count": 170,
   "id": "4f7f4653-5ebe-4809-85f5-c01bf73df5b4",
   "metadata": {},
   "outputs": [
    {
     "data": {
      "image/png": "[encoded data removed]",
      "text/plain": [
       "<Figure size 720x360 with 1 Axes>"
      ]
     },
     "metadata": {
      "needs_background": "light"
     },
     "output_type": "display_data"
    }
   ],
   "source": [
    "# Plot CF top 20 words\n",
    "plt.figure(figsize=(10,5))\n",
    "sns.barplot(data=df_top_cf.head(20),x='freq',y='word',orient='h')\n",
    "\n",
    "plt.title('CrossFit: Top 20 Words',fontsize=25)\n",
    "plt.xlabel('frequency (%)',fontsize=20)\n",
    "plt.ylabel('word',fontsize=20)\n",
    "plt.tick_params(labelsize=15);\n",
    "\n",
    "plt.savefig('images/top_words_cf.png')"
   ]
  },
  {
   "cell_type": "markdown",
   "id": "b5f3408a-a654-4796-9741-d5aa12bb42ec",
   "metadata": {},
   "source": [
    "### Preprocessing & Modeling"
   ]
  },
  {
   "cell_type": "code",
   "execution_count": 39,
   "id": "66274b13-b229-489c-81d9-4bad0b7189e8",
   "metadata": {
    "collapsed": true,
    "jupyter": {
     "outputs_hidden": true
    },
    "tags": []
   },
   "outputs": [
    {
     "data": {
      "text/plain": [
       "list"
      ]
     },
     "execution_count": 39,
     "metadata": {},
     "output_type": "execute_result"
    }
   ],
   "source": [
    "type(stopwords.words('english'))"
   ]
  },
  {
   "cell_type": "code",
   "execution_count": 40,
   "id": "aac108cf-ce97-42a3-9e73-42eccc308c28",
   "metadata": {},
   "outputs": [],
   "source": [
    "my_stopwords = stopwords.words('english')"
   ]
  },
  {
   "cell_type": "code",
   "execution_count": 41,
   "id": "d3394bdc-b6fb-4cd2-a399-3598c8bbe555",
   "metadata": {},
   "outputs": [
    {
     "name": "stdout",
     "output_type": "stream",
     "text": [
      "['i', 'me', 'my', 'myself', 'we', 'our', 'ours', 'ourselves', 'you', \"you're\", \"you've\", \"you'll\", \"you'd\", 'your', 'yours', 'yourself', 'yourselves', 'he', 'him', 'his', 'himself', 'she', \"she's\", 'her', 'hers', 'herself', 'it', \"it's\", 'its', 'itself', 'they', 'them', 'their', 'theirs', 'themselves', 'what', 'which', 'who', 'whom', 'this', 'that', \"that'll\", 'these', 'those', 'am', 'is', 'are', 'was', 'were', 'be', 'been', 'being', 'have', 'has', 'had', 'having', 'do', 'does', 'did', 'doing', 'a', 'an', 'the', 'and', 'but', 'if', 'or', 'because', 'as', 'until', 'while', 'of', 'at', 'by', 'for', 'with', 'about', 'against', 'between', 'into', 'through', 'during', 'before', 'after', 'above', 'below', 'to', 'from', 'up', 'down', 'in', 'out', 'on', 'off', 'over', 'under', 'again', 'further', 'then', 'once', 'here', 'there', 'when', 'where', 'why', 'how', 'all', 'any', 'both', 'each', 'few', 'more', 'most', 'other', 'some', 'such', 'no', 'nor', 'not', 'only', 'own', 'same', 'so', 'than', 'too', 'very', 's', 't', 'can', 'will', 'just', 'don', \"don't\", 'should', \"should've\", 'now', 'd', 'll', 'm', 'o', 're', 've', 'y', 'ain', 'aren', \"aren't\", 'couldn', \"couldn't\", 'didn', \"didn't\", 'doesn', \"doesn't\", 'hadn', \"hadn't\", 'hasn', \"hasn't\", 'haven', \"haven't\", 'isn', \"isn't\", 'ma', 'mightn', \"mightn't\", 'mustn', \"mustn't\", 'needn', \"needn't\", 'shan', \"shan't\", 'shouldn', \"shouldn't\", 'wasn', \"wasn't\", 'weren', \"weren't\", 'won', \"won't\", 'wouldn', \"wouldn't\"]\n"
     ]
    }
   ],
   "source": [
    "print(my_stopwords) # words to remove - 'not', 'no', 'out'"
   ]
  },
  {
   "cell_type": "code",
   "execution_count": 42,
   "id": "a78d8d7f-cbb6-4637-9b1f-55d4c6657380",
   "metadata": {},
   "outputs": [],
   "source": [
    "# Adding 'otf' and 'crossfit' to my_stopwords bc they show up a lot in both subreddits\n",
    "# want to prevent model overfitting\n",
    "# .extend works like .append except you can add more than one item in a list\n",
    "my_stopwords.extend(['otf', 'crossfit'])"
   ]
  },
  {
   "cell_type": "code",
   "execution_count": 43,
   "id": "8b6d227b-e8af-41a2-870b-19d2d94438c4",
   "metadata": {},
   "outputs": [],
   "source": [
    "# Romoving words from my_stopwords list that might negatively impact sentiment analysis\n",
    "my_stopwords.remove('out')\n",
    "\n",
    "my_stopwords.remove('no')\n",
    "\n",
    "my_stopwords.remove('not')"
   ]
  },
  {
   "cell_type": "code",
   "execution_count": 44,
   "id": "f0cfea49-b6d1-4d8e-a0a3-1f1b3033d642",
   "metadata": {},
   "outputs": [],
   "source": [
    "def stopword_filter(post):\n",
    "  \n",
    "    return [word for word in post.lower().split() if word.lower() not in my_stopwords]\n"
   ]
  },
  {
   "cell_type": "code",
   "execution_count": 45,
   "id": "7416341e-b385-4421-8fb9-364c352a7594",
   "metadata": {
    "tags": []
   },
   "outputs": [],
   "source": [
    "# Create function to tokenize 'title' and filter out stopwords\n",
    "def tokenizer(post):\n",
    "    tokenizer = RegexpTokenizer(r'\\w+')\n",
    "#     return tokenizer.tokenize(' '.join(stopword_filter(post))) - DO NOT RUN\n",
    "    return stopword_filter(' '.join(tokenizer.tokenize(post)))\n",
    "\n",
    "# Create new column with Tokens\n",
    "gyms_df['title_tokens'] = gyms_df['title'].map(tokenizer)\n",
    "gyms_df['selftext_tokens'] = gyms_df['selftext'].map(tokenizer)\n"
   ]
  },
  {
   "cell_type": "code",
   "execution_count": 46,
   "id": "ce6677ea-79f6-45c2-8f10-baab8597841d",
   "metadata": {},
   "outputs": [],
   "source": [
    "# Create function classes to 'stem' and 'lemmatize' tokens used in pipeline vectorizers\n",
    "# Adapted from: https://scikit-learn.org/stable/modules/feature_extraction.html\n",
    "\n",
    "class Lemmatizer:\n",
    "    def __init__(self):\n",
    "        self.wnl = WordNetLemmatizer()\n",
    "    def __call__(self, post):\n",
    "        return [self.wnl.lemmatize(p) for p in post.split()]\n",
    "\n",
    "class Stemmer:\n",
    "    def __init__(self):\n",
    "        self.ps = PorterStemmer()\n",
    "    def __call__(self, post):\n",
    "        return [self.ps.stem(p) for p in post.split()]"
   ]
  },
  {
   "cell_type": "code",
   "execution_count": 48,
   "id": "c90d63fd-d5ed-4eef-b226-e9be2ae1f84a",
   "metadata": {},
   "outputs": [
    {
     "data": {
      "text/html": [
       "<div>\n",
       "<style scoped>\n",
       "    .dataframe tbody tr th:only-of-type {\n",
       "        vertical-align: middle;\n",
       "    }\n",
       "\n",
       "    .dataframe tbody tr th {\n",
       "        vertical-align: top;\n",
       "    }\n",
       "\n",
       "    .dataframe thead th {\n",
       "        text-align: right;\n",
       "    }\n",
       "</style>\n",
       "<table border=\"1\" class=\"dataframe\">\n",
       "  <thead>\n",
       "    <tr style=\"text-align: right;\">\n",
       "      <th></th>\n",
       "      <th>author_fullname</th>\n",
       "      <th>title</th>\n",
       "      <th>selftext</th>\n",
       "      <th>score</th>\n",
       "      <th>subreddit</th>\n",
       "      <th>sub_value</th>\n",
       "      <th>title_tokens</th>\n",
       "      <th>selftext_tokens</th>\n",
       "    </tr>\n",
       "  </thead>\n",
       "  <tbody>\n",
       "  </tbody>\n",
       "</table>\n",
       "</div>"
      ],
      "text/plain": [
       "Empty DataFrame\n",
       "Columns: [author_fullname, title, selftext, score, subreddit, sub_value, title_tokens, selftext_tokens]\n",
       "Index: []"
      ]
     },
     "execution_count": 48,
     "metadata": {},
     "output_type": "execute_result"
    }
   ],
   "source": [
    "# Trying to find rows which have empty lists for 'title_tokens' and 'selftext_tokens'\n",
    "# but can't figure it out\n",
    "gyms_df[gyms_df['title_tokens'] == '[]']"
   ]
  },
  {
   "cell_type": "code",
   "execution_count": 49,
   "id": "dcd1e242-3c3a-4794-a723-472e86302f80",
   "metadata": {},
   "outputs": [],
   "source": [
    "# columns for length of each 'title' and 'selftext' posts\n",
    "gyms_df['title_length'] = gyms_df['title'].map(len)\n",
    "gyms_df['selftext_length'] = gyms_df['selftext'].map(len)"
   ]
  },
  {
   "cell_type": "code",
   "execution_count": 50,
   "id": "e899a815-4a65-416f-8beb-a2c430d42876",
   "metadata": {
    "tags": []
   },
   "outputs": [
    {
     "data": {
      "text/html": [
       "<div>\n",
       "<style scoped>\n",
       "    .dataframe tbody tr th:only-of-type {\n",
       "        vertical-align: middle;\n",
       "    }\n",
       "\n",
       "    .dataframe tbody tr th {\n",
       "        vertical-align: top;\n",
       "    }\n",
       "\n",
       "    .dataframe thead th {\n",
       "        text-align: right;\n",
       "    }\n",
       "</style>\n",
       "<table border=\"1\" class=\"dataframe\">\n",
       "  <thead>\n",
       "    <tr style=\"text-align: right;\">\n",
       "      <th></th>\n",
       "      <th>author_fullname</th>\n",
       "      <th>title</th>\n",
       "      <th>selftext</th>\n",
       "      <th>score</th>\n",
       "      <th>subreddit</th>\n",
       "      <th>sub_value</th>\n",
       "      <th>title_tokens</th>\n",
       "      <th>selftext_tokens</th>\n",
       "      <th>title_length</th>\n",
       "      <th>selftext_length</th>\n",
       "    </tr>\n",
       "  </thead>\n",
       "  <tbody>\n",
       "    <tr>\n",
       "      <th>0</th>\n",
       "      <td>t2_38cndng5</td>\n",
       "      <td>disc replacement</td>\n",
       "      <td>not looking for medical advice just curious if...</td>\n",
       "      <td>1</td>\n",
       "      <td>orangetheory</td>\n",
       "      <td>1</td>\n",
       "      <td>[disc, replacement]</td>\n",
       "      <td>[not, looking, medical, advice, curious, anyon...</td>\n",
       "      <td>16</td>\n",
       "      <td>310</td>\n",
       "    </tr>\n",
       "  </tbody>\n",
       "</table>\n",
       "</div>"
      ],
      "text/plain": [
       "  author_fullname             title  \\\n",
       "0     t2_38cndng5  disc replacement   \n",
       "\n",
       "                                            selftext  score     subreddit  \\\n",
       "0  not looking for medical advice just curious if...      1  orangetheory   \n",
       "\n",
       "   sub_value         title_tokens  \\\n",
       "0          1  [disc, replacement]   \n",
       "\n",
       "                                     selftext_tokens  title_length  \\\n",
       "0  [not, looking, medical, advice, curious, anyon...            16   \n",
       "\n",
       "   selftext_length  \n",
       "0              310  "
      ]
     },
     "execution_count": 50,
     "metadata": {},
     "output_type": "execute_result"
    }
   ],
   "source": [
    "gyms_df.head(1)"
   ]
  },
  {
   "cell_type": "code",
   "execution_count": 51,
   "id": "4589698f-66a0-451b-a655-6523a55c1ad1",
   "metadata": {},
   "outputs": [],
   "source": [
    "# columns for word count of 'title' and 'selftext' posts\n",
    "def word_count(post):\n",
    "    return len(post.split())\n",
    "\n",
    "gyms_df['title_word_count'] = gyms_df['title'].map(word_count)\n",
    "gyms_df['selftext_word_count'] = gyms_df['selftext'].map(word_count)"
   ]
  },
  {
   "cell_type": "code",
   "execution_count": 52,
   "id": "4ebf2ce0-d209-4bb6-afc8-b06aaa99fb10",
   "metadata": {
    "tags": []
   },
   "outputs": [
    {
     "data": {
      "text/html": [
       "<div>\n",
       "<style scoped>\n",
       "    .dataframe tbody tr th:only-of-type {\n",
       "        vertical-align: middle;\n",
       "    }\n",
       "\n",
       "    .dataframe tbody tr th {\n",
       "        vertical-align: top;\n",
       "    }\n",
       "\n",
       "    .dataframe thead th {\n",
       "        text-align: right;\n",
       "    }\n",
       "</style>\n",
       "<table border=\"1\" class=\"dataframe\">\n",
       "  <thead>\n",
       "    <tr style=\"text-align: right;\">\n",
       "      <th></th>\n",
       "      <th>author_fullname</th>\n",
       "      <th>title</th>\n",
       "      <th>selftext</th>\n",
       "      <th>score</th>\n",
       "      <th>subreddit</th>\n",
       "      <th>sub_value</th>\n",
       "      <th>title_tokens</th>\n",
       "      <th>selftext_tokens</th>\n",
       "      <th>title_length</th>\n",
       "      <th>selftext_length</th>\n",
       "      <th>title_word_count</th>\n",
       "      <th>selftext_word_count</th>\n",
       "    </tr>\n",
       "  </thead>\n",
       "  <tbody>\n",
       "    <tr>\n",
       "      <th>0</th>\n",
       "      <td>t2_38cndng5</td>\n",
       "      <td>disc replacement</td>\n",
       "      <td>not looking for medical advice just curious if...</td>\n",
       "      <td>1</td>\n",
       "      <td>orangetheory</td>\n",
       "      <td>1</td>\n",
       "      <td>[disc, replacement]</td>\n",
       "      <td>[not, looking, medical, advice, curious, anyon...</td>\n",
       "      <td>16</td>\n",
       "      <td>310</td>\n",
       "      <td>2</td>\n",
       "      <td>61</td>\n",
       "    </tr>\n",
       "  </tbody>\n",
       "</table>\n",
       "</div>"
      ],
      "text/plain": [
       "  author_fullname             title  \\\n",
       "0     t2_38cndng5  disc replacement   \n",
       "\n",
       "                                            selftext  score     subreddit  \\\n",
       "0  not looking for medical advice just curious if...      1  orangetheory   \n",
       "\n",
       "   sub_value         title_tokens  \\\n",
       "0          1  [disc, replacement]   \n",
       "\n",
       "                                     selftext_tokens  title_length  \\\n",
       "0  [not, looking, medical, advice, curious, anyon...            16   \n",
       "\n",
       "   selftext_length  title_word_count  selftext_word_count  \n",
       "0              310                 2                   61  "
      ]
     },
     "execution_count": 52,
     "metadata": {},
     "output_type": "execute_result"
    }
   ],
   "source": [
    "gyms_df.head(1)"
   ]
  },
  {
   "cell_type": "code",
   "execution_count": 198,
   "id": "71ef9462-b294-4ef4-8037-61841088d22d",
   "metadata": {},
   "outputs": [
    {
     "data": {
      "text/plain": [
       "author_fullname        object\n",
       "title                  object\n",
       "selftext               object\n",
       "score                   int64\n",
       "subreddit              object\n",
       "sub_value               int64\n",
       "title_tokens           object\n",
       "selftext_tokens        object\n",
       "title_length            int64\n",
       "selftext_length         int64\n",
       "title_word_count        int64\n",
       "selftext_word_count     int64\n",
       "dtype: object"
      ]
     },
     "execution_count": 198,
     "metadata": {},
     "output_type": "execute_result"
    }
   ],
   "source": [
    "gyms_df.dtypes"
   ]
  },
  {
   "cell_type": "code",
   "execution_count": 172,
   "id": "bcdcb625-0319-4018-8df9-1402b0ff460e",
   "metadata": {
    "tags": []
   },
   "outputs": [
    {
     "data": {
      "text/html": [
       "<div>\n",
       "<style scoped>\n",
       "    .dataframe tbody tr th:only-of-type {\n",
       "        vertical-align: middle;\n",
       "    }\n",
       "\n",
       "    .dataframe tbody tr th {\n",
       "        vertical-align: top;\n",
       "    }\n",
       "\n",
       "    .dataframe thead th {\n",
       "        text-align: right;\n",
       "    }\n",
       "</style>\n",
       "<table border=\"1\" class=\"dataframe\">\n",
       "  <thead>\n",
       "    <tr style=\"text-align: right;\">\n",
       "      <th></th>\n",
       "      <th>title</th>\n",
       "      <th>title_word_count</th>\n",
       "    </tr>\n",
       "  </thead>\n",
       "  <tbody>\n",
       "    <tr>\n",
       "      <th>1442</th>\n",
       "      <td>is the take out the trash my good night inside...</td>\n",
       "      <td>60</td>\n",
       "    </tr>\n",
       "    <tr>\n",
       "      <th>1756</th>\n",
       "      <td>3rd crossfit day. no one else showed up at 8am...</td>\n",
       "      <td>56</td>\n",
       "    </tr>\n",
       "    <tr>\n",
       "      <th>1678</th>\n",
       "      <td>murph prep! been working my way up to a full m...</td>\n",
       "      <td>56</td>\n",
       "    </tr>\n",
       "    <tr>\n",
       "      <th>1686</th>\n",
       "      <td>did my first offical class this morning!! it w...</td>\n",
       "      <td>54</td>\n",
       "    </tr>\n",
       "    <tr>\n",
       "      <th>1606</th>\n",
       "      <td>тhere is a youtubеr cаllеd \"leоn fаrаdаy\" that...</td>\n",
       "      <td>52</td>\n",
       "    </tr>\n",
       "  </tbody>\n",
       "</table>\n",
       "</div>"
      ],
      "text/plain": [
       "                                                  title  title_word_count\n",
       "1442  is the take out the trash my good night inside...                60\n",
       "1756  3rd crossfit day. no one else showed up at 8am...                56\n",
       "1678  murph prep! been working my way up to a full m...                56\n",
       "1686  did my first offical class this morning!! it w...                54\n",
       "1606  тhere is a youtubеr cаllеd \"leоn fаrаdаy\" that...                52"
      ]
     },
     "execution_count": 172,
     "metadata": {},
     "output_type": "execute_result"
    }
   ],
   "source": [
    "gyms_df.sort_values(by='title_word_count', ascending=False).head()[['title', 'title_word_count']]"
   ]
  },
  {
   "cell_type": "code",
   "execution_count": 54,
   "id": "75eeb8e7-9bdb-4965-bfe0-64a5e5302860",
   "metadata": {},
   "outputs": [
    {
     "data": {
      "text/plain": [
       "score                    2.187308\n",
       "sub_value                0.000000\n",
       "title_length            51.029683\n",
       "selftext_length        164.752303\n",
       "title_word_count         9.194473\n",
       "selftext_word_count     29.568066\n",
       "dtype: float64"
      ]
     },
     "execution_count": 54,
     "metadata": {},
     "output_type": "execute_result"
    }
   ],
   "source": [
    "gyms_df.loc[gyms_df['subreddit'] == 'crossfit'].mean(axis=0)"
   ]
  },
  {
   "cell_type": "code",
   "execution_count": 55,
   "id": "cbe7451f-edd5-43a7-af66-144f3cdebcdc",
   "metadata": {},
   "outputs": [
    {
     "data": {
      "text/plain": [
       "score                    5.409321\n",
       "sub_value                1.000000\n",
       "title_length            32.333333\n",
       "selftext_length        427.322188\n",
       "title_word_count         5.756839\n",
       "selftext_word_count     83.425532\n",
       "dtype: float64"
      ]
     },
     "execution_count": 55,
     "metadata": {},
     "output_type": "execute_result"
    }
   ],
   "source": [
    "gyms_df.loc[gyms_df['subreddit'] == 'orangetheory'].mean(axis=0)"
   ]
  },
  {
   "cell_type": "code",
   "execution_count": 56,
   "id": "7223674a-d738-479f-aa76-1db8f16c3233",
   "metadata": {},
   "outputs": [
    {
     "data": {
      "image/png": "[encoded data removed]",
      "text/plain": [
       "<Figure size 432x288 with 1 Axes>"
      ]
     },
     "metadata": {
      "needs_background": "light"
     },
     "output_type": "display_data"
    }
   ],
   "source": [
    "plt.title('Distribution of Crossfit title lengths')\n",
    "plt.hist(gyms_df[gyms_df['subreddit'] == 'crossfit']['title_length'])\n",
    "plt.axvline(gyms_df[gyms_df['subreddit'] == 'crossfit']['title_length'].mean(), color='red',\n",
    "           label=str(np.round(gyms_df[gyms_df['subreddit'] == 'crossfit']['title_length'].mean(),\n",
    "                             decimals=2)))\n",
    "plt.xlabel('Title Length')\n",
    "plt.ylabel('Frequency')\n",
    "plt.legend();\n",
    "\n",
    "plt.savefig('images/cf_title_length_distr.png')"
   ]
  },
  {
   "cell_type": "code",
   "execution_count": 57,
   "id": "973aed98-89a1-410a-8ea1-c62763dae988",
   "metadata": {},
   "outputs": [
    {
     "data": {
      "image/png": "[encoded data removed]",
      "text/plain": [
       "<Figure size 432x288 with 1 Axes>"
      ]
     },
     "metadata": {
      "needs_background": "light"
     },
     "output_type": "display_data"
    }
   ],
   "source": [
    "plt.title('Distribution of Crossfit title word counts')\n",
    "plt.hist(gyms_df[gyms_df['subreddit'] == 'crossfit']['title_word_count'])\n",
    "plt.axvline(gyms_df[gyms_df['subreddit'] == 'crossfit']['title_word_count'].mean(), color='red',\n",
    "           label=str(np.round(gyms_df[gyms_df['subreddit'] == 'crossfit']['title_word_count'].mean(),\n",
    "                             decimals=2)))\n",
    "plt.xlabel('Title Word Count')\n",
    "plt.ylabel('Frequency')\n",
    "plt.legend();\n",
    "\n",
    "plt.savefig('images/cf_title_wordct_distr.png')"
   ]
  },
  {
   "cell_type": "code",
   "execution_count": 58,
   "id": "b0e60597-be47-48e4-9a39-239d4f8715f9",
   "metadata": {},
   "outputs": [
    {
     "data": {
      "image/png": "[encoded data removed]",
      "text/plain": [
       "<Figure size 432x288 with 1 Axes>"
      ]
     },
     "metadata": {
      "needs_background": "light"
     },
     "output_type": "display_data"
    }
   ],
   "source": [
    "plt.title('Distribution of Orange Theory title lengths')\n",
    "plt.hist(gyms_df[gyms_df['subreddit'] == 'orangetheory']['title_length'], color='orange')\n",
    "plt.axvline(gyms_df[gyms_df['subreddit'] == 'orangetheory']['title_length'].mean(), color='green',\n",
    "           label=str(np.round(gyms_df[gyms_df['subreddit'] == 'orangetheory']['title_length'].mean(),\n",
    "                             decimals=2)))\n",
    "plt.xlabel('Title Length')\n",
    "plt.ylabel('Frequency')\n",
    "plt.legend();\n",
    "\n",
    "plt.savefig('images/otf_title_length_distr.png')"
   ]
  },
  {
   "cell_type": "code",
   "execution_count": 59,
   "id": "e5e89f3e-c51c-4fca-9654-4885c1e88be6",
   "metadata": {},
   "outputs": [
    {
     "data": {
      "image/png": "[encoded data removed]",
      "text/plain": [
       "<Figure size 432x288 with 1 Axes>"
      ]
     },
     "metadata": {
      "needs_background": "light"
     },
     "output_type": "display_data"
    }
   ],
   "source": [
    "plt.title('Distribution of Orange Theory title word counts')\n",
    "plt.hist(gyms_df[gyms_df['subreddit'] == 'orangetheory']['title_word_count'], color='orange')\n",
    "plt.axvline(gyms_df[gyms_df['subreddit'] == 'orangetheory']['title_word_count'].mean(), color='green',\n",
    "           label=str(np.round(gyms_df[gyms_df['subreddit'] == 'orangetheory']['title_word_count'].mean(),\n",
    "                             decimals=2)))\n",
    "plt.xlabel('Title Word Count')\n",
    "plt.ylabel('Frequency')\n",
    "plt.legend();\n",
    "\n",
    "plt.savefig('images/otf_title_wordct_distr.png')"
   ]
  },
  {
   "cell_type": "code",
   "execution_count": 60,
   "id": "9f269d0e-865f-45ea-ad4c-c0c17b59f717",
   "metadata": {},
   "outputs": [
    {
     "data": {
      "image/png": "[encoded data removed]",
      "text/plain": [
       "<Figure size 432x288 with 1 Axes>"
      ]
     },
     "metadata": {
      "needs_background": "light"
     },
     "output_type": "display_data"
    }
   ],
   "source": [
    "plt.hist(gyms_df[gyms_df['subreddit'] == 'orangetheory']['title_word_count'], alpha=.6, label='OTF')\n",
    "plt.hist(gyms_df[gyms_df['subreddit'] == 'crossfit']['title_word_count'], alpha=.6, label='CF')\n",
    "plt.legend()\n",
    "plt.title('Distribution of title word counts by subreddit');"
   ]
  },
  {
   "cell_type": "code",
   "execution_count": 61,
   "id": "ba35d325-e800-4f0a-8ad2-0bfb257f3fc4",
   "metadata": {},
   "outputs": [
    {
     "data": {
      "image/png": "[encoded data removed]",
      "text/plain": [
       "<Figure size 432x288 with 1 Axes>"
      ]
     },
     "metadata": {
      "needs_background": "light"
     },
     "output_type": "display_data"
    }
   ],
   "source": [
    "gyms_df.groupby('subreddit').mean()['title_word_count'].plot(kind='bar')\n",
    "plt.title('Average title word count by subreddit', size=15)\n",
    "plt.xticks(rotation=360)\n",
    "plt.ylabel('Avg. word count', size=13)\n",
    "plt.xlabel('Subreddit', size=13);\n",
    "\n",
    "plt.savefig('images/avg_title_wordct_per_sub.png')"
   ]
  },
  {
   "cell_type": "code",
   "execution_count": 62,
   "id": "7af37519-4294-403b-925a-9ecaacf84ca5",
   "metadata": {},
   "outputs": [
    {
     "data": {
      "image/png": "[encoded data removed]",
      "text/plain": [
       "<Figure size 432x288 with 1 Axes>"
      ]
     },
     "metadata": {
      "needs_background": "light"
     },
     "output_type": "display_data"
    }
   ],
   "source": [
    "gyms_df.groupby('subreddit').mean()['selftext_word_count'].plot(kind='bar', color='green')\n",
    "plt.title('Average selftext (post content) word count by subreddit', size=15)\n",
    "plt.xticks(rotation=360)\n",
    "plt.ylabel('Avg. word count', size=13)\n",
    "plt.xlabel('Subreddit', size=13);\n",
    "\n",
    "plt.savefig('images/avg_selftext_wordct_per_sub.png')"
   ]
  },
  {
   "cell_type": "markdown",
   "id": "a48f8a12-7d87-48d1-b969-aaaf5108cc69",
   "metadata": {},
   "source": [
    " Describe summary stats and distributions"
   ]
  },
  {
   "cell_type": "markdown",
   "id": "41b30f66-2052-4d4d-b6bb-be92fdbf81f8",
   "metadata": {},
   "source": [
    "#### Setting up Training/Testing Data"
   ]
  },
  {
   "cell_type": "code",
   "execution_count": 63,
   "id": "13d4799a-270a-4c28-b328-6cfbfdf80f41",
   "metadata": {},
   "outputs": [],
   "source": [
    "X = gyms_df['title']\n",
    "y = gyms_df['sub_value']"
   ]
  },
  {
   "cell_type": "markdown",
   "id": "37939aa3-343e-4811-af18-e938fe412e54",
   "metadata": {},
   "source": [
    "##### Baseline Accuracy (OrangeTheory: 1 | Crossfit: 0)"
   ]
  },
  {
   "cell_type": "code",
   "execution_count": 64,
   "id": "ecf97849-5cad-4c13-a8f2-a9a1f9424895",
   "metadata": {
    "tags": []
   },
   "outputs": [
    {
     "data": {
      "text/plain": [
       "1    0.502546\n",
       "0    0.497454\n",
       "Name: sub_value, dtype: float64"
      ]
     },
     "execution_count": 64,
     "metadata": {},
     "output_type": "execute_result"
    }
   ],
   "source": [
    "y.value_counts(normalize = True)"
   ]
  },
  {
   "cell_type": "markdown",
   "id": "71239c33-0a04-4767-bf9e-f8a778c04402",
   "metadata": {},
   "source": [
    "The baseline accuracy score of 50.25%, is saying that according to the null model we would be right about 50% of the time if we predicted a piece of text from the corpus data as belonging to the Orange Theory subreddit (the plurality class)."
   ]
  },
  {
   "cell_type": "code",
   "execution_count": 65,
   "id": "067a15c7-2207-44e2-b643-4cff8dfd5ce9",
   "metadata": {},
   "outputs": [],
   "source": [
    "X_train, X_test, y_train, y_test = train_test_split(X,\n",
    "                                                    y,\n",
    "                                                    stratify=y,\n",
    "                                                    random_state=42)"
   ]
  },
  {
   "cell_type": "code",
   "execution_count": 130,
   "id": "f28a31a4-68ae-44ba-8266-2399f2b0e793",
   "metadata": {},
   "outputs": [],
   "source": [
    "# Adding my custom stopwords list to sklearns 'english' stopword list\n",
    "from sklearn.feature_extraction import text \n",
    "\n",
    "stop_words = text.ENGLISH_STOP_WORDS.union(my_stopwords)"
   ]
  },
  {
   "cell_type": "code",
   "execution_count": 141,
   "id": "2490795f-2c5d-4a77-aa60-ea34316438ef",
   "metadata": {
    "tags": []
   },
   "outputs": [],
   "source": [
    "cvec = CountVectorizer(stop_words = stop_words)\n",
    "\n",
    "cvec.fit(X_train)\n",
    "X_train_cv = cvec.transform(X_train)\n",
    "\n",
    "X_test_cv = cvec.transform(X_test)"
   ]
  },
  {
   "cell_type": "code",
   "execution_count": 164,
   "id": "ecba0e13-18fa-4148-ac49-efa351f1c8e0",
   "metadata": {},
   "outputs": [
    {
     "data": {
      "image/png": "[encoded data removed]",
      "text/plain": [
       "<Figure size 432x288 with 1 Axes>"
      ]
     },
     "metadata": {
      "needs_background": "light"
     },
     "output_type": "display_data"
    }
   ],
   "source": [
    "# Converting training data to dataframe\n",
    "X_train_df = pd.DataFrame(X_train_cv.todense(), \n",
    "                          columns=cvec.get_feature_names())\n",
    "\n",
    "# Plot of top 10 occuring words\n",
    "X_train_df.sum().sort_values(ascending=False).head(10).plot(kind='barh')\n",
    "plt.title('Top 10 words in Training data(OTFxCF)');\n",
    "\n",
    "plt.savefig('images/top_words_gyms_df.png')"
   ]
  },
  {
   "cell_type": "markdown",
   "id": "eae92d04-2d98-49c5-b25b-ddd6cf84a677",
   "metadata": {},
   "source": [
    "### Modeling"
   ]
  },
  {
   "cell_type": "code",
   "execution_count": 91,
   "id": "8e00b2ad-503c-429f-a299-06798b2c5fe5",
   "metadata": {},
   "outputs": [],
   "source": [
    "# Gridsearch was printing so many warnings, so I imported this to stop the warnings from showing\n",
    "import warnings\n",
    "warnings.filterwarnings(action='once')\n",
    "\n",
    "warnings.filterwarnings('ignore')"
   ]
  },
  {
   "cell_type": "markdown",
   "id": "ae419571-0c22-4f28-900f-10c9cebd4e1c",
   "metadata": {},
   "source": [
    "##### Count Vectorizer Transformer Models"
   ]
  },
  {
   "cell_type": "code",
   "execution_count": 175,
   "id": "4a08a176-c265-4766-9857-45598267ddcf",
   "metadata": {},
   "outputs": [],
   "source": [
    "# CountVectorizer + LogReg \n",
    "pipe_cvec_logreg = Pipeline([\n",
    "    ('cvec', CountVectorizer()),  \n",
    "    ('logreg', LogisticRegression())                                  \n",
    "])\n",
    "\n",
    "# CountVectorizer + Multinomial Naive Bayes \n",
    "pipe_cvec_mnb = Pipeline([             \n",
    "    ('cvec', CountVectorizer()),  \n",
    "    ('mnb', MultinomialNB())                                           \n",
    "])\n",
    "\n",
    "# CountVectorizer + Random Forest    \n",
    "pipe_cvec_rf = Pipeline([ \n",
    "('cvec', CountVectorizer()),      \n",
    "('rf', RandomForestClassifier())                                       \n",
    "])"
   ]
  },
  {
   "cell_type": "markdown",
   "id": "2631f30b-e4d9-47c6-a851-162af0e92711",
   "metadata": {},
   "source": [
    "##### TFIDF Transformer models"
   ]
  },
  {
   "cell_type": "code",
   "execution_count": 176,
   "id": "729ef113-7c13-4b5a-b3a9-7ae9ed3483b8",
   "metadata": {},
   "outputs": [],
   "source": [
    "# TfidfVectorizer + LogReg \n",
    "pipe_tfidf_logreg = Pipeline([         \n",
    "    ('tfidf', TfidfVectorizer()), \n",
    "    ('logreg', LogisticRegression())                                   \n",
    "])\n",
    "\n",
    "# TfidfVectorizer + Multinomial Naive Bayes \n",
    "pipe_tfidf_mnb = Pipeline([            \n",
    "    ('tfidf', TfidfVectorizer()), \n",
    "    ('mnb', MultinomialNB())                                           \n",
    "])\n",
    "\n",
    "# TfidfVectorizer + Random Forest      \n",
    "pipe_tfidf_rf = Pipeline([ \n",
    "('tfidf', TfidfVectorizer()),     \n",
    "('rf', RandomForestClassifier())                                       \n",
    "])  \n"
   ]
  },
  {
   "cell_type": "markdown",
   "id": "0ac8de2c-5468-4f01-9d8c-d50926e149fe",
   "metadata": {},
   "source": [
    "##### Model Parameters"
   ]
  },
  {
   "cell_type": "code",
   "execution_count": 177,
   "id": "769f58b2-96fd-46ba-9db3-f54cfdfaa85f",
   "metadata": {},
   "outputs": [],
   "source": [
    "params_cvec_logreg = {\n",
    "    'cvec__tokenizer': [Lemmatizer(), Stemmer(), None],\n",
    "    'cvec__stop_words': ['english', None],\n",
    "    'cvec__max_features' : [1000, 1500, 2000, None],\n",
    "    'cvec__ngram_range': [(1,1), (1,2)],\n",
    "    'cvec__max_df': [0.9, 0.95],\n",
    "    'cvec__min_df': [2, 3],\n",
    "    'logreg__C': [0.01, 0.1, 0.5, 1]\n",
    "}\n",
    "\n",
    "params_cvec_mnb = {\n",
    "    'cvec__tokenizer': [Lemmatizer(), Stemmer(), None],\n",
    "    'cvec__stop_words': ['english', None],\n",
    "    'cvec__max_features' : [1000, 1500, 2000, None],\n",
    "    'cvec__ngram_range': [(1,1), (1,2)],\n",
    "    'cvec__max_df': [0.9, 0.95],\n",
    "    'cvec__min_df': [2, 3],\n",
    "    'mnb__alpha': [0.9, 0.95, 1]\n",
    "}\n",
    "\n",
    "params_cvec_rf = {\n",
    "#     'cvec__tokenizer': [Lemmatizer(), Stemmer(), None],\n",
    "    'cvec__stop_words': ['english', None],\n",
    "    'cvec__max_features' : [1000, 1500, 2000, None],\n",
    "    'cvec__ngram_range': [(1,1), (1,2)],\n",
    "    'cvec__max_df': [0.9, 0.95],\n",
    "    'cvec__min_df': [2, 3],\n",
    "    'rf__n_estimators': [100, 150, 200],\n",
    "    'rf__max_depth' : [None, 1, 2, 3, 5, 10]  \n",
    "}\n",
    "\n",
    "\n",
    "\n",
    "params_tfidf_logreg = {\n",
    "    'tfidf__tokenizer': [Lemmatizer(), Stemmer(), None],\n",
    "    'tfidf__stop_words': ['english', None],\n",
    "    'tfidf__max_features' : [1000, 1500, 2000, None],\n",
    "    'tfidf__ngram_range': [(1,1), (1,2)],\n",
    "    'tfidf__max_df': [0.9, 0.95],\n",
    "    'tfidf__min_df': [2, 3],\n",
    "    'logreg__C': [0.01, 0.1, 0.5, 1],\n",
    "}\n",
    "\n",
    "params_tfidf_mnb = {\n",
    "    'tfidf__tokenizer': [Lemmatizer(), Stemmer(), None],\n",
    "    'tfidf__stop_words': ['english', None],\n",
    "    'tfidf__max_features' : [1000, 1500, 2000, None],\n",
    "    'tfidf__ngram_range': [(1,1), (1,2)],\n",
    "    'tfidf__max_df': [0.9, 0.95],\n",
    "    'tfidf__min_df': [2, 3],\n",
    "    'mnb__alpha': [0.9, 0.95, 1]\n",
    "}\n",
    "\n",
    "params_tfidf_rf = {\n",
    "#     'tfidf__tokenizer': [Lemmatizer(), Stemmer(), None],\n",
    "    'tfidf__stop_words': ['english', None],\n",
    "    'tfidf__max_features' : [1000, 1500, 2000, None],\n",
    "    'tfidf__ngram_range': [(1,1), (1,2)],\n",
    "    'tfidf__max_df': [0.9, 0.95],\n",
    "    'tfidf__min_df': [2, 3],\n",
    "    'rf__n_estimators': [100, 150, 200],\n",
    "    'rf__max_depth' : [None, 1, 2, 3, 5, 10]  \n",
    "}"
   ]
  },
  {
   "cell_type": "markdown",
   "id": "c94c8b97-6a3d-4cf3-b4fe-4a67cb9503b3",
   "metadata": {},
   "source": [
    "#### Pipeline Models"
   ]
  },
  {
   "cell_type": "markdown",
   "id": "183ca1df-8d91-4ca7-93af-f0780764313e",
   "metadata": {},
   "source": [
    "##### CountVectorizer-Logistic Regression"
   ]
  },
  {
   "cell_type": "code",
   "execution_count": 191,
   "id": "358ded44-766b-48a4-87b9-ca431b717846",
   "metadata": {},
   "outputs": [
    {
     "name": "stdout",
     "output_type": "stream",
     "text": [
      "Training Score(CVEC-LOGREG): 0.9775967413441955\n",
      "Testing Score(CVEC-LOGREG): 0.8207739307535642\n",
      "Avg. Cross-Val Score(CVEC-LOGREG): 0.81395826127061\n"
     ]
    }
   ],
   "source": [
    "pipe_cvec_logreg.fit(X_train, y_train)\n",
    "\n",
    "print(f\"Training Score(CVEC-LOGREG): {pipe_cvec_logreg.score(X_train, y_train)}\")\n",
    "\n",
    "print(f\"Testing Score(CVEC-LOGREG): {pipe_cvec_logreg.score(X_test, y_test)}\")\n",
    "\n",
    "print(f\"Avg. Cross-Val Score(CVEC-LOGREG): {cross_val_score(pipe_cvec_logreg, X_train, y_train, cv=5 ).mean()}\")"
   ]
  },
  {
   "cell_type": "markdown",
   "id": "e35dcd5a-f40c-40e0-bba8-ca450647d9a0",
   "metadata": {},
   "source": [
    "##### CountVectorizer-Multinomial Naive Bayes"
   ]
  },
  {
   "cell_type": "code",
   "execution_count": 192,
   "id": "c1522ec4-9114-46cd-bc88-746fd7b184bc",
   "metadata": {},
   "outputs": [
    {
     "name": "stdout",
     "output_type": "stream",
     "text": [
      "Training Score(CVEC-MNB): 0.945010183299389\n",
      "Testing Score(CVEC-MNB): 0.8085539714867617\n",
      "Avg. Cross-Val Score(CVEC-MNB): 0.8234797647872709\n"
     ]
    }
   ],
   "source": [
    "pipe_cvec_mnb.fit(X_train, y_train)\n",
    "\n",
    "print(f\"Training Score(CVEC-MNB): {pipe_cvec_mnb.score(X_train, y_train)}\")\n",
    "\n",
    "print(f\"Testing Score(CVEC-MNB): {pipe_cvec_mnb.score(X_test, y_test)}\")\n",
    "\n",
    "print(f\"Avg. Cross-Val Score(CVEC-MNB): {cross_val_score(pipe_cvec_mnb, X_train, y_train, cv=5 ).mean()}\")"
   ]
  },
  {
   "cell_type": "markdown",
   "id": "f3ab6abb-7964-4c09-8bc9-aeb4e2391d3f",
   "metadata": {},
   "source": [
    "##### CountVectorizer-Random Forest"
   ]
  },
  {
   "cell_type": "code",
   "execution_count": 193,
   "id": "eaee1421-a065-43f4-8de8-1e0169120214",
   "metadata": {
    "tags": []
   },
   "outputs": [
    {
     "name": "stdout",
     "output_type": "stream",
     "text": [
      "Training Score(CVEC-RF): 0.9986422267481331\n",
      "Testing Score(CVEC-RF): 0.824847250509165\n",
      "Avg. Cross-Val Score(CVEC-RF): 0.784088550674507\n"
     ]
    }
   ],
   "source": [
    "pipe_cvec_rf.fit(X_train, y_train)\n",
    "\n",
    "print(f\"Training Score(CVEC-RF): {pipe_cvec_rf.score(X_train, y_train)}\")\n",
    "\n",
    "print(f\"Testing Score(CVEC-RF): {pipe_cvec_rf.score(X_test, y_test)}\")\n",
    "\n",
    "print(f\"Avg. Cross-Val Score(CVEC-RF): {cross_val_score(pipe_cvec_rf, X_train, y_train, cv=5 ).mean()}\")"
   ]
  },
  {
   "cell_type": "markdown",
   "id": "78eb5bed-5a38-4861-9098-4eb8b4433597",
   "metadata": {},
   "source": [
    "##### TF-IDF Vectorizer-Logistic Regression"
   ]
  },
  {
   "cell_type": "code",
   "execution_count": 196,
   "id": "b6b873cc-b1a2-4a5b-9f4a-d16e61846ebd",
   "metadata": {},
   "outputs": [
    {
     "name": "stdout",
     "output_type": "stream",
     "text": [
      "Training Score(TFIDF-LOGREG): 0.955193482688391\n",
      "Testing Score(TFIDF-LOGREG): 0.8167006109979633\n",
      "Avg. Cross-Val Score(TFIDF-LOGREG): 0.8193889081056153\n"
     ]
    }
   ],
   "source": [
    "pipe_tfidf_logreg.fit(X_train, y_train)\n",
    "\n",
    "print(f\"Training Score(TFIDF-LOGREG): {pipe_tfidf_logreg.score(X_train, y_train)}\")\n",
    "\n",
    "print(f\"Testing Score(TFIDF-LOGREG): {pipe_tfidf_logreg.score(X_test, y_test)}\")\n",
    "\n",
    "print(f\"Avg. Cross-Val Score(TFIDF-LOGREG): {cross_val_score(pipe_tfidf_logreg, X_train, y_train, cv=5 ).mean()}\")"
   ]
  },
  {
   "cell_type": "markdown",
   "id": "e32d5fb7-b130-4750-ab1e-b19e60d45dd1",
   "metadata": {},
   "source": [
    "##### TF-IDF Vectorizer-Multinomial Naive Bayes"
   ]
  },
  {
   "cell_type": "code",
   "execution_count": 194,
   "id": "d0802bd9-d0eb-42cb-9f1a-8e51a2cd96e1",
   "metadata": {},
   "outputs": [
    {
     "name": "stdout",
     "output_type": "stream",
     "text": [
      "Training Score(TFIDF-MNB): 0.9613034623217923\n",
      "Testing Score(TFIDF-MNB): 0.8187372708757638\n",
      "Avg. Cross-Val Score(TFIDF-MNB): 0.8289034936008302\n"
     ]
    }
   ],
   "source": [
    "pipe_tfidf_mnb.fit(X_train, y_train)\n",
    "\n",
    "print(f\"Training Score(TFIDF-MNB): {pipe_tfidf_mnb.score(X_train, y_train)}\")\n",
    "\n",
    "print(f\"Testing Score(TFIDF-MNB): {pipe_tfidf_mnb.score(X_test, y_test)}\")\n",
    "\n",
    "print(f\"Avg. Cross-Val Score(TFIDF-MNB): {cross_val_score(pipe_tfidf_mnb, X_train, y_train, cv=5 ).mean()}\")"
   ]
  },
  {
   "cell_type": "markdown",
   "id": "cc56baed-5a93-433e-b7de-ec60fa5ba3d1",
   "metadata": {},
   "source": [
    "##### TF-IDF Vectorizer-Random Forest"
   ]
  },
  {
   "cell_type": "code",
   "execution_count": 195,
   "id": "eae5ad78-b5b3-4c82-bd8a-60e55109f62d",
   "metadata": {},
   "outputs": [
    {
     "name": "stdout",
     "output_type": "stream",
     "text": [
      "Training Score(TFIDF-MNB): 0.9986422267481331\n",
      "Testing Score(TFIDF-MNB): 0.8126272912423625\n",
      "Avg. Cross-Val Score(TFIDF-MNB): 0.7759483454398708\n"
     ]
    }
   ],
   "source": [
    "pipe_tfidf_rf.fit(X_train, y_train)\n",
    "\n",
    "print(f\"Training Score(TFIDF-MNB): {pipe_tfidf_rf.score(X_train, y_train)}\")\n",
    "\n",
    "print(f\"Testing Score(TFIDF-MNB): {pipe_tfidf_rf.score(X_test, y_test)}\")\n",
    "\n",
    "print(f\"Avg. Cross-Val Score(TFIDF-MNB): {cross_val_score(pipe_tfidf_rf, X_train, y_train, cv=5 ).mean()}\")"
   ]
  },
  {
   "cell_type": "markdown",
   "id": "d9c9f425-bfcb-4973-a9ed-149ea2518474",
   "metadata": {},
   "source": [
    "#### Gridsearch Models"
   ]
  },
  {
   "cell_type": "markdown",
   "id": "fd5bf47d-dabd-4133-aacd-9b15ebda622e",
   "metadata": {},
   "source": [
    "##### CountVectorizer-Logistic Regression"
   ]
  },
  {
   "cell_type": "code",
   "execution_count": 122,
   "id": "3400cfad-2216-4716-8782-117c42ca5d63",
   "metadata": {},
   "outputs": [
    {
     "name": "stdout",
     "output_type": "stream",
     "text": [
      "0.8119335869941198\n"
     ]
    }
   ],
   "source": [
    "gs_cvec_logreg = GridSearchCV(pipe_cvec_logreg, \n",
    "                  param_grid=params_cvec_logreg, \n",
    "                  cv=5) \n",
    "\n",
    "gs_cvec_logreg.fit(X_train, y_train)\n",
    "\n",
    "print(gs_cvec_logreg.best_score_)"
   ]
  },
  {
   "cell_type": "code",
   "execution_count": 123,
   "id": "ad9f4c28-8fb7-485b-b8bc-514747dea584",
   "metadata": {},
   "outputs": [
    {
     "data": {
      "text/plain": [
       "{'cvec__max_df': 0.9,\n",
       " 'cvec__max_features': 1000,\n",
       " 'cvec__min_df': 2,\n",
       " 'cvec__ngram_range': (1, 1),\n",
       " 'cvec__stop_words': 'english',\n",
       " 'cvec__tokenizer': None,\n",
       " 'logreg__C': 0.5}"
      ]
     },
     "execution_count": 123,
     "metadata": {},
     "output_type": "execute_result"
    }
   ],
   "source": [
    "gs_cvec_logreg.best_params_"
   ]
  },
  {
   "cell_type": "markdown",
   "id": "13502cc5-a8d6-4d6e-9dbe-e0dfe7ff7712",
   "metadata": {},
   "source": [
    "##### CountVectorizer-Multinomial Naive Bayes"
   ]
  },
  {
   "cell_type": "code",
   "execution_count": 126,
   "id": "0d8cb8df-d244-4a9f-b410-f01c8be9649e",
   "metadata": {},
   "outputs": [
    {
     "name": "stdout",
     "output_type": "stream",
     "text": [
      "0.8146431453937506\n"
     ]
    }
   ],
   "source": [
    "gs_cvec_mnb = GridSearchCV(pipe_cvec_mnb, \n",
    "                  param_grid=params_cvec_mnb, \n",
    "                  cv=5) \n",
    "\n",
    "gs_cvec_mnb.fit(X_train, y_train)\n",
    "\n",
    "print(gs_cvec_mnb.best_score_)"
   ]
  },
  {
   "cell_type": "code",
   "execution_count": 127,
   "id": "c35b989a-1cad-4cc2-9216-49bd41f59932",
   "metadata": {},
   "outputs": [
    {
     "data": {
      "text/plain": [
       "{'cvec__max_df': 0.9,\n",
       " 'cvec__max_features': 1500,\n",
       " 'cvec__min_df': 2,\n",
       " 'cvec__ngram_range': (1, 2),\n",
       " 'cvec__stop_words': 'english',\n",
       " 'cvec__tokenizer': None,\n",
       " 'mnb__alpha': 0.95}"
      ]
     },
     "execution_count": 127,
     "metadata": {},
     "output_type": "execute_result"
    }
   ],
   "source": [
    "gs_cvec_mnb.best_params_"
   ]
  },
  {
   "cell_type": "markdown",
   "id": "04dcf756-9506-4a8d-91db-ff063e2f8e28",
   "metadata": {},
   "source": [
    "##### CountVectorizer-Random Forest"
   ]
  },
  {
   "cell_type": "code",
   "execution_count": 130,
   "id": "cfd5f25a-1518-4cd3-9e69-d2447d51bf2c",
   "metadata": {
    "tags": []
   },
   "outputs": [
    {
     "name": "stdout",
     "output_type": "stream",
     "text": [
      "0.7997186671278682\n"
     ]
    }
   ],
   "source": [
    "gs_cvec_rf = GridSearchCV(pipe_cvec_rf, \n",
    "                  param_grid=params_cvec_rf, \n",
    "                  cv=5) \n",
    "\n",
    "gs_cvec_rf.fit(X_train, y_train)\n",
    "\n",
    "print(gs_cvec_rf.best_score_)\n"
   ]
  },
  {
   "cell_type": "code",
   "execution_count": 132,
   "id": "048243c4-6819-4f7d-bc97-e8eb98954188",
   "metadata": {},
   "outputs": [
    {
     "name": "stdout",
     "output_type": "stream",
     "text": [
      "{'cvec__max_df': 0.95, 'cvec__max_features': 1000, 'cvec__min_df': 2, 'cvec__ngram_range': (1, 2), 'cvec__stop_words': 'english', 'rf__max_depth': None, 'rf__n_estimators': 100}\n"
     ]
    }
   ],
   "source": [
    "print(gs_cvec_rf.best_params_)"
   ]
  },
  {
   "cell_type": "markdown",
   "id": "60bc39df-d92e-4bec-a050-43e0f163d368",
   "metadata": {},
   "source": [
    "##### TF-IDF Vectorizer-Logistic Regression"
   ]
  },
  {
   "cell_type": "code",
   "execution_count": 133,
   "id": "27434bd6-7462-439c-a459-2d3762a6cdeb",
   "metadata": {},
   "outputs": [
    {
     "name": "stdout",
     "output_type": "stream",
     "text": [
      "0.8092032745301511\n"
     ]
    }
   ],
   "source": [
    "gs_tfidf_logreg = GridSearchCV(pipe_tfidf_logreg, \n",
    "                  param_grid=params_tfidf_logreg, \n",
    "                  cv=5) \n",
    "\n",
    "gs_tfidf_logreg.fit(X_train, y_train)\n",
    "\n",
    "print(gs_tfidf_logreg.best_score_)"
   ]
  },
  {
   "cell_type": "markdown",
   "id": "9090dc68-58fa-4581-90fe-3361b8c82290",
   "metadata": {},
   "source": [
    "##### TF-IDF Vectorizer-Multinomial Naive Bayes"
   ]
  },
  {
   "cell_type": "code",
   "execution_count": 130,
   "id": "6311a749-ff04-472f-8c66-b26f6ab82f5b",
   "metadata": {},
   "outputs": [
    {
     "name": "stdout",
     "output_type": "stream",
     "text": [
      "0.8126161651101118\n",
      "{'mnb__alpha': 1, 'tfidf__max_df': 0.9, 'tfidf__max_features': 1500, 'tfidf__min_df': 2, 'tfidf__ngram_range': (1, 2)}\n"
     ]
    }
   ],
   "source": [
    "gs_tfidf_mnb = GridSearchCV(pipe_tfidf_mnb, \n",
    "                  param_grid=params_tfidf_mnb, \n",
    "                  cv=5) \n",
    "\n",
    "gs_tfidf_mnb.fit(X_train, y_train)\n",
    "\n",
    "print(gs_tfidf_mnb.best_score_)\n",
    "print(gs_tfidf_mnb.best_params_)"
   ]
  },
  {
   "cell_type": "markdown",
   "id": "d935e28f-d5d1-4144-928c-1ae0c750b360",
   "metadata": {},
   "source": [
    "##### TF-IDF Vectorizer-Random Forest"
   ]
  },
  {
   "cell_type": "code",
   "execution_count": 132,
   "id": "fbe0b23d-1444-4af0-af03-2b4cba453a96",
   "metadata": {},
   "outputs": [
    {
     "name": "stdout",
     "output_type": "stream",
     "text": [
      "0.7963150005765017\n",
      "{'rf__max_depth': None, 'tfidf__max_df': 0.9, 'tfidf__max_features': None, 'tfidf__min_df': 2, 'tfidf__ngram_range': (1, 2)}\n"
     ]
    }
   ],
   "source": [
    "gs_tfidf_rf = GridSearchCV(pipe_tfidf_rf, \n",
    "                  param_grid=params_tfidf_rf, \n",
    "                  cv=5) \n",
    "\n",
    "gs_tfidf_rf.fit(X_train, y_train)\n",
    "\n",
    "print(gs_tfidf_rf.best_score_)\n",
    "print(gs_tfidf_rf.best_params_)"
   ]
  },
  {
   "cell_type": "markdown",
   "id": "1c29e0de-19de-4841-9784-81e8b24917e5",
   "metadata": {},
   "source": [
    "### Best Model"
   ]
  },
  {
   "cell_type": "markdown",
   "id": "0afb4fe0-3be6-4db1-9650-eac5d06a2e78",
   "metadata": {},
   "source": [
    "##### TF-IDF Vectorizer-Multinomial Naive Bayes"
   ]
  },
  {
   "cell_type": "code",
   "execution_count": 194,
   "id": "42283d75-7865-492b-a6e5-2a24fce1f8f0",
   "metadata": {},
   "outputs": [
    {
     "name": "stdout",
     "output_type": "stream",
     "text": [
      "Training Score(TFIDF-MNB): 0.9613034623217923\n",
      "Testing Score(TFIDF-MNB): 0.8187372708757638\n",
      "Avg. Cross-Val Score(TFIDF-MNB): 0.8289034936008302\n"
     ]
    }
   ],
   "source": [
    "pipe_tfidf_mnb.fit(X_train, y_train)\n",
    "\n",
    "print(f\"Training Score(TFIDF-MNB): {pipe_tfidf_mnb.score(X_train, y_train)}\")\n",
    "\n",
    "print(f\"Testing Score(TFIDF-MNB): {pipe_tfidf_mnb.score(X_test, y_test)}\")\n",
    "\n",
    "print(f\"Avg. Cross-Val Score(TFIDF-MNB): {cross_val_score(pipe_tfidf_mnb, X_train, y_train, cv=5 ).mean()}\")"
   ]
  },
  {
   "cell_type": "code",
   "execution_count": 199,
   "id": "1c70fcc2-cfd7-49e0-bf9d-f382a07f237f",
   "metadata": {},
   "outputs": [
    {
     "name": "stdout",
     "output_type": "stream",
     "text": [
      "Specificity: 0.8278688524590164\n"
     ]
    }
   ],
   "source": [
    "# Predictions\n",
    "best_preds = pipe_tfidf_mnb.predict(X_test)\n",
    "\n",
    "# Confusion matrix values\n",
    "tn, fp, fn, tp = confusion_matrix(y_test, best_preds).ravel()\n",
    "\n",
    "# Specificity\n",
    "spec = tn / (tn + fp)\n",
    "\n",
    "print('Specificity:', spec)"
   ]
  },
  {
   "cell_type": "markdown",
   "id": "496f8121-3a22-42ce-9b08-4ac494318ce1",
   "metadata": {},
   "source": [
    "Specificity Metric was used to show the ability of my model to correctly identify each subreddit. So, 82% of the time my model correctly predicts the subreddit, as opposed to 50% of the null model."
   ]
  },
  {
   "cell_type": "code",
   "execution_count": 202,
   "id": "c1193f96-9aea-4f7d-989a-2e2c027938d1",
   "metadata": {},
   "outputs": [
    {
     "data": {
      "image/png": "[encoded data removed]",
      "text/plain": [
       "<Figure size 432x288 with 2 Axes>"
      ]
     },
     "metadata": {
      "needs_background": "light"
     },
     "output_type": "display_data"
    }
   ],
   "source": [
    "# Plot confusion matrix\n",
    "plot_confusion_matrix(pipe_tfidf_mnb, X_test, y_test, cmap='Blues', values_format='d');\n",
    "plt.savefig('images/conf_matrix.png')"
   ]
  },
  {
   "cell_type": "markdown",
   "id": "5e14ed24-c68c-4ada-b3ee-ff87681e9dfb",
   "metadata": {},
   "source": [
    "### Sentiments Analysis"
   ]
  },
  {
   "cell_type": "markdown",
   "id": "98d95e13-706f-43df-9978-3c0d21d67df1",
   "metadata": {},
   "source": [
    "#### EDA of OTF and CF dataframes"
   ]
  },
  {
   "cell_type": "code",
   "execution_count": 115,
   "id": "b207df18-f276-4d19-ae97-3f45fd392360",
   "metadata": {
    "tags": []
   },
   "outputs": [
    {
     "data": {
      "text/html": [
       "<div>\n",
       "<style scoped>\n",
       "    .dataframe tbody tr th:only-of-type {\n",
       "        vertical-align: middle;\n",
       "    }\n",
       "\n",
       "    .dataframe tbody tr th {\n",
       "        vertical-align: top;\n",
       "    }\n",
       "\n",
       "    .dataframe thead th {\n",
       "        text-align: right;\n",
       "    }\n",
       "</style>\n",
       "<table border=\"1\" class=\"dataframe\">\n",
       "  <thead>\n",
       "    <tr style=\"text-align: right;\">\n",
       "      <th></th>\n",
       "      <th>author_fullname</th>\n",
       "      <th>title</th>\n",
       "      <th>selftext</th>\n",
       "      <th>score</th>\n",
       "      <th>subreddit</th>\n",
       "    </tr>\n",
       "  </thead>\n",
       "  <tbody>\n",
       "    <tr>\n",
       "      <th>0</th>\n",
       "      <td>t2_38cndng5</td>\n",
       "      <td>Disc replacement</td>\n",
       "      <td>Not looking for medical advice just curious if...</td>\n",
       "      <td>1</td>\n",
       "      <td>orangetheory</td>\n",
       "    </tr>\n",
       "    <tr>\n",
       "      <th>1</th>\n",
       "      <td>t2_4k54qa7s</td>\n",
       "      <td>What are your cues that you need a few days off?</td>\n",
       "      <td>How can you tell when you need to take a few d...</td>\n",
       "      <td>3</td>\n",
       "      <td>orangetheory</td>\n",
       "    </tr>\n",
       "    <tr>\n",
       "      <th>2</th>\n",
       "      <td>t2_8162kxd9</td>\n",
       "      <td>Burnsville or Apple Valley MN studio</td>\n",
       "      <td>I will be in Lakeville MN next week, thinking ...</td>\n",
       "      <td>2</td>\n",
       "      <td>orangetheory</td>\n",
       "    </tr>\n",
       "    <tr>\n",
       "      <th>3</th>\n",
       "      <td>t2_ct4fexde</td>\n",
       "      <td>OTF… Feels like the 80’’s Highschool Cliche - ...</td>\n",
       "      <td>[removed]</td>\n",
       "      <td>1</td>\n",
       "      <td>orangetheory</td>\n",
       "    </tr>\n",
       "    <tr>\n",
       "      <th>4</th>\n",
       "      <td>t2_3wl9qh0n</td>\n",
       "      <td>Daily Workout and General Chat for Saturday, 6...</td>\n",
       "      <td>Use this post to discuss today's OTF workout o...</td>\n",
       "      <td>8</td>\n",
       "      <td>orangetheory</td>\n",
       "    </tr>\n",
       "  </tbody>\n",
       "</table>\n",
       "</div>"
      ],
      "text/plain": [
       "  author_fullname                                              title  \\\n",
       "0     t2_38cndng5                                   Disc replacement   \n",
       "1     t2_4k54qa7s   What are your cues that you need a few days off?   \n",
       "2     t2_8162kxd9               Burnsville or Apple Valley MN studio   \n",
       "3     t2_ct4fexde  OTF… Feels like the 80’’s Highschool Cliche - ...   \n",
       "4     t2_3wl9qh0n  Daily Workout and General Chat for Saturday, 6...   \n",
       "\n",
       "                                            selftext  score     subreddit  \n",
       "0  Not looking for medical advice just curious if...      1  orangetheory  \n",
       "1  How can you tell when you need to take a few d...      3  orangetheory  \n",
       "2  I will be in Lakeville MN next week, thinking ...      2  orangetheory  \n",
       "3                                          [removed]      1  orangetheory  \n",
       "4  Use this post to discuss today's OTF workout o...      8  orangetheory  "
      ]
     },
     "execution_count": 115,
     "metadata": {},
     "output_type": "execute_result"
    }
   ],
   "source": [
    "otf_df.head()"
   ]
  },
  {
   "cell_type": "code",
   "execution_count": 142,
   "id": "dc945bf0-b1bc-432e-99f2-ef2f926743d3",
   "metadata": {},
   "outputs": [
    {
     "data": {
      "text/plain": [
       "author_fullname    0\n",
       "title              0\n",
       "selftext           0\n",
       "score              0\n",
       "subreddit          0\n",
       "dtype: int64"
      ]
     },
     "execution_count": 142,
     "metadata": {},
     "output_type": "execute_result"
    }
   ],
   "source": [
    "otf_df.isnull().sum().sort_values(ascending=False)"
   ]
  },
  {
   "cell_type": "code",
   "execution_count": 139,
   "id": "50f140f6-5efa-4dbc-ad7e-f1dcc54a670f",
   "metadata": {},
   "outputs": [
    {
     "data": {
      "text/plain": [
       "0"
      ]
     },
     "execution_count": 139,
     "metadata": {},
     "output_type": "execute_result"
    }
   ],
   "source": [
    "otf_df.duplicated().sum()"
   ]
  },
  {
   "cell_type": "code",
   "execution_count": 138,
   "id": "3e796c86-ff4f-45d6-a47c-1fd422b98f6e",
   "metadata": {},
   "outputs": [],
   "source": [
    "otf_df.drop_duplicates(keep='first', inplace=True)"
   ]
  },
  {
   "cell_type": "code",
   "execution_count": 141,
   "id": "b90f6641-bc41-45c2-95e6-36f6b3f503ea",
   "metadata": {},
   "outputs": [],
   "source": [
    "otf_df.drop(otf_df[otf_df['author_fullname'].isna()].index, inplace=True)"
   ]
  },
  {
   "cell_type": "code",
   "execution_count": 145,
   "id": "37710057-d81c-4e14-b643-948540507be3",
   "metadata": {},
   "outputs": [],
   "source": [
    "otf_df['selftext'].replace({'[removed]': '', '[deleted]': ''}, inplace=True)"
   ]
  },
  {
   "cell_type": "code",
   "execution_count": 189,
   "id": "1ce71eed-75a4-4955-9439-91db9ef4f792",
   "metadata": {},
   "outputs": [],
   "source": [
    "otf_df.drop(otf_df[otf_df['selftext'] == ''].index, inplace=True)"
   ]
  },
  {
   "cell_type": "code",
   "execution_count": 190,
   "id": "844b81dd-f07e-4594-b5e2-c55e57e02e4f",
   "metadata": {},
   "outputs": [
    {
     "data": {
      "text/plain": [
       "(844, 5)"
      ]
     },
     "execution_count": 190,
     "metadata": {},
     "output_type": "execute_result"
    }
   ],
   "source": [
    "otf_df.shape"
   ]
  },
  {
   "cell_type": "code",
   "execution_count": 153,
   "id": "9766e922-bb6b-428e-a9a3-cde77ae4251b",
   "metadata": {},
   "outputs": [
    {
     "data": {
      "text/plain": [
       "author_fullname    0\n",
       "title              0\n",
       "selftext           0\n",
       "score              0\n",
       "subreddit          0\n",
       "dtype: int64"
      ]
     },
     "execution_count": 153,
     "metadata": {},
     "output_type": "execute_result"
    }
   ],
   "source": [
    "cf_df.isnull().sum().sort_values(ascending=False)"
   ]
  },
  {
   "cell_type": "code",
   "execution_count": 158,
   "id": "20c9c943-6ba4-48db-abe1-529a50991e2e",
   "metadata": {},
   "outputs": [
    {
     "data": {
      "text/plain": [
       "0"
      ]
     },
     "execution_count": 158,
     "metadata": {},
     "output_type": "execute_result"
    }
   ],
   "source": [
    "cf_df.duplicated().sum()"
   ]
  },
  {
   "cell_type": "code",
   "execution_count": 157,
   "id": "e9219287-43e5-4389-acc0-3975353eb646",
   "metadata": {},
   "outputs": [],
   "source": [
    "cf_df.drop_duplicates(keep='first', inplace=True)"
   ]
  },
  {
   "cell_type": "code",
   "execution_count": 152,
   "id": "029d1139-36c4-476c-a209-f5a65704e179",
   "metadata": {},
   "outputs": [],
   "source": [
    "cf_df.drop(cf_df[cf_df['author_fullname'].isna()].index, inplace=True)"
   ]
  },
  {
   "cell_type": "code",
   "execution_count": 154,
   "id": "3f662fba-2bcf-44ca-9c2b-c1e7d6a94e60",
   "metadata": {},
   "outputs": [],
   "source": [
    "cf_df['selftext'].replace({'[removed]': '', '[deleted]': ''}, inplace=True)"
   ]
  },
  {
   "cell_type": "code",
   "execution_count": 187,
   "id": "41328e52-e267-435a-9981-82f995b75179",
   "metadata": {},
   "outputs": [],
   "source": [
    "cf_df.drop(cf_df[cf_df['selftext'] == ''].index, inplace=True)"
   ]
  },
  {
   "cell_type": "code",
   "execution_count": 188,
   "id": "2f298d8e-ddb0-45f9-8a4d-282beb105f9a",
   "metadata": {},
   "outputs": [
    {
     "data": {
      "text/plain": [
       "(341, 5)"
      ]
     },
     "execution_count": 188,
     "metadata": {},
     "output_type": "execute_result"
    }
   ],
   "source": [
    "cf_df.shape"
   ]
  },
  {
   "cell_type": "markdown",
   "id": "37813a19-765e-4884-ba6b-fca6684c5623",
   "metadata": {},
   "source": [
    "#### Instantiating Sentiment Analyzer"
   ]
  },
  {
   "cell_type": "code",
   "execution_count": 167,
   "id": "f1a7788d-95f1-4410-b29a-1c56b1ac7fe1",
   "metadata": {},
   "outputs": [],
   "source": [
    "sia = SentimentIntensityAnalyzer()"
   ]
  },
  {
   "cell_type": "markdown",
   "id": "5f8695aa-b7d1-4032-bcb9-972f05324d2b",
   "metadata": {},
   "source": [
    "#### SIA for OTF 'title'"
   ]
  },
  {
   "cell_type": "code",
   "execution_count": 180,
   "id": "3c07f5e6-3913-4733-a4cd-ef55c91a08f2",
   "metadata": {
    "tags": []
   },
   "outputs": [
    {
     "data": {
      "text/html": [
       "<div>\n",
       "<style scoped>\n",
       "    .dataframe tbody tr th:only-of-type {\n",
       "        vertical-align: middle;\n",
       "    }\n",
       "\n",
       "    .dataframe tbody tr th {\n",
       "        vertical-align: top;\n",
       "    }\n",
       "\n",
       "    .dataframe thead th {\n",
       "        text-align: right;\n",
       "    }\n",
       "</style>\n",
       "<table border=\"1\" class=\"dataframe\">\n",
       "  <thead>\n",
       "    <tr style=\"text-align: right;\">\n",
       "      <th></th>\n",
       "      <th>neg</th>\n",
       "      <th>neu</th>\n",
       "      <th>pos</th>\n",
       "      <th>compound</th>\n",
       "    </tr>\n",
       "  </thead>\n",
       "  <tbody>\n",
       "    <tr>\n",
       "      <th>80</th>\n",
       "      <td>0.0</td>\n",
       "      <td>0.537</td>\n",
       "      <td>0.463</td>\n",
       "      <td>0.8842</td>\n",
       "    </tr>\n",
       "    <tr>\n",
       "      <th>683</th>\n",
       "      <td>0.0</td>\n",
       "      <td>0.433</td>\n",
       "      <td>0.567</td>\n",
       "      <td>0.8342</td>\n",
       "    </tr>\n",
       "    <tr>\n",
       "      <th>923</th>\n",
       "      <td>0.0</td>\n",
       "      <td>0.667</td>\n",
       "      <td>0.333</td>\n",
       "      <td>0.8176</td>\n",
       "    </tr>\n",
       "    <tr>\n",
       "      <th>141</th>\n",
       "      <td>0.0</td>\n",
       "      <td>0.647</td>\n",
       "      <td>0.353</td>\n",
       "      <td>0.8016</td>\n",
       "    </tr>\n",
       "    <tr>\n",
       "      <th>245</th>\n",
       "      <td>0.0</td>\n",
       "      <td>0.464</td>\n",
       "      <td>0.536</td>\n",
       "      <td>0.7959</td>\n",
       "    </tr>\n",
       "  </tbody>\n",
       "</table>\n",
       "</div>"
      ],
      "text/plain": [
       "     neg    neu    pos  compound\n",
       "80   0.0  0.537  0.463    0.8842\n",
       "683  0.0  0.433  0.567    0.8342\n",
       "923  0.0  0.667  0.333    0.8176\n",
       "141  0.0  0.647  0.353    0.8016\n",
       "245  0.0  0.464  0.536    0.7959"
      ]
     },
     "execution_count": 180,
     "metadata": {},
     "output_type": "execute_result"
    }
   ],
   "source": [
    "sia_dicts_otf = [sia.polarity_scores(post) for post in otf_df['title']]\n",
    "\n",
    "sia_df_otf = pd.DataFrame(sia_dicts_otf)\n",
    "\n",
    "sia_df_otf.sort_values(by='compound', ascending=False).head()"
   ]
  },
  {
   "cell_type": "code",
   "execution_count": 195,
   "id": "966c40d5-9fcb-4629-9bc2-560addb50166",
   "metadata": {},
   "outputs": [
    {
     "data": {
      "text/html": [
       "<div>\n",
       "<style scoped>\n",
       "    .dataframe tbody tr th:only-of-type {\n",
       "        vertical-align: middle;\n",
       "    }\n",
       "\n",
       "    .dataframe tbody tr th {\n",
       "        vertical-align: top;\n",
       "    }\n",
       "\n",
       "    .dataframe thead th {\n",
       "        text-align: right;\n",
       "    }\n",
       "</style>\n",
       "<table border=\"1\" class=\"dataframe\">\n",
       "  <thead>\n",
       "    <tr style=\"text-align: right;\">\n",
       "      <th></th>\n",
       "      <th>neg</th>\n",
       "      <th>neu</th>\n",
       "      <th>pos</th>\n",
       "      <th>compound</th>\n",
       "    </tr>\n",
       "  </thead>\n",
       "  <tbody>\n",
       "    <tr>\n",
       "      <th>count</th>\n",
       "      <td>987.000000</td>\n",
       "      <td>987.000000</td>\n",
       "      <td>987.000000</td>\n",
       "      <td>987.000000</td>\n",
       "    </tr>\n",
       "    <tr>\n",
       "      <th>mean</th>\n",
       "      <td>0.054322</td>\n",
       "      <td>0.864228</td>\n",
       "      <td>0.081451</td>\n",
       "      <td>0.025959</td>\n",
       "    </tr>\n",
       "    <tr>\n",
       "      <th>std</th>\n",
       "      <td>0.154718</td>\n",
       "      <td>0.229225</td>\n",
       "      <td>0.182385</td>\n",
       "      <td>0.239759</td>\n",
       "    </tr>\n",
       "    <tr>\n",
       "      <th>min</th>\n",
       "      <td>0.000000</td>\n",
       "      <td>0.000000</td>\n",
       "      <td>0.000000</td>\n",
       "      <td>-0.812600</td>\n",
       "    </tr>\n",
       "    <tr>\n",
       "      <th>25%</th>\n",
       "      <td>0.000000</td>\n",
       "      <td>0.738500</td>\n",
       "      <td>0.000000</td>\n",
       "      <td>0.000000</td>\n",
       "    </tr>\n",
       "    <tr>\n",
       "      <th>50%</th>\n",
       "      <td>0.000000</td>\n",
       "      <td>1.000000</td>\n",
       "      <td>0.000000</td>\n",
       "      <td>0.000000</td>\n",
       "    </tr>\n",
       "    <tr>\n",
       "      <th>75%</th>\n",
       "      <td>0.000000</td>\n",
       "      <td>1.000000</td>\n",
       "      <td>0.000000</td>\n",
       "      <td>0.000000</td>\n",
       "    </tr>\n",
       "    <tr>\n",
       "      <th>max</th>\n",
       "      <td>1.000000</td>\n",
       "      <td>1.000000</td>\n",
       "      <td>1.000000</td>\n",
       "      <td>0.884200</td>\n",
       "    </tr>\n",
       "  </tbody>\n",
       "</table>\n",
       "</div>"
      ],
      "text/plain": [
       "              neg         neu         pos    compound\n",
       "count  987.000000  987.000000  987.000000  987.000000\n",
       "mean     0.054322    0.864228    0.081451    0.025959\n",
       "std      0.154718    0.229225    0.182385    0.239759\n",
       "min      0.000000    0.000000    0.000000   -0.812600\n",
       "25%      0.000000    0.738500    0.000000    0.000000\n",
       "50%      0.000000    1.000000    0.000000    0.000000\n",
       "75%      0.000000    1.000000    0.000000    0.000000\n",
       "max      1.000000    1.000000    1.000000    0.884200"
      ]
     },
     "execution_count": 195,
     "metadata": {},
     "output_type": "execute_result"
    }
   ],
   "source": [
    "sia_df_otf.describe()"
   ]
  },
  {
   "cell_type": "markdown",
   "id": "325e0cd1-6457-45cc-b670-ece01db6287a",
   "metadata": {},
   "source": [
    "#### Polarity Scores for CF 'title'"
   ]
  },
  {
   "cell_type": "code",
   "execution_count": 176,
   "id": "a3831d48-3779-4543-97ab-d60dcdec1b54",
   "metadata": {},
   "outputs": [],
   "source": [
    "sia_dicts_cf = [sia.polarity_scores(post) for post in cf_df['title']]\n",
    "\n",
    "sia_df_cf = pd.DataFrame(sia_dicts_cf)\n",
    "\n",
    "sia_df_cf.sort_values(by='compound', ascending=False).head()"
   ]
  },
  {
   "cell_type": "code",
   "execution_count": 177,
   "id": "e60c2e61-005a-41ba-8d73-bacd947e9f6c",
   "metadata": {},
   "outputs": [
    {
     "data": {
      "text/html": [
       "<div>\n",
       "<style scoped>\n",
       "    .dataframe tbody tr th:only-of-type {\n",
       "        vertical-align: middle;\n",
       "    }\n",
       "\n",
       "    .dataframe tbody tr th {\n",
       "        vertical-align: top;\n",
       "    }\n",
       "\n",
       "    .dataframe thead th {\n",
       "        text-align: right;\n",
       "    }\n",
       "</style>\n",
       "<table border=\"1\" class=\"dataframe\">\n",
       "  <thead>\n",
       "    <tr style=\"text-align: right;\">\n",
       "      <th></th>\n",
       "      <th>neg</th>\n",
       "      <th>neu</th>\n",
       "      <th>pos</th>\n",
       "      <th>compound</th>\n",
       "    </tr>\n",
       "  </thead>\n",
       "  <tbody>\n",
       "    <tr>\n",
       "      <th>count</th>\n",
       "      <td>975.000000</td>\n",
       "      <td>975.000000</td>\n",
       "      <td>975.000000</td>\n",
       "      <td>975.000000</td>\n",
       "    </tr>\n",
       "    <tr>\n",
       "      <th>mean</th>\n",
       "      <td>0.056265</td>\n",
       "      <td>0.837358</td>\n",
       "      <td>0.106376</td>\n",
       "      <td>0.093832</td>\n",
       "    </tr>\n",
       "    <tr>\n",
       "      <th>std</th>\n",
       "      <td>0.136578</td>\n",
       "      <td>0.211725</td>\n",
       "      <td>0.178028</td>\n",
       "      <td>0.320572</td>\n",
       "    </tr>\n",
       "    <tr>\n",
       "      <th>min</th>\n",
       "      <td>0.000000</td>\n",
       "      <td>0.000000</td>\n",
       "      <td>0.000000</td>\n",
       "      <td>-0.836000</td>\n",
       "    </tr>\n",
       "    <tr>\n",
       "      <th>25%</th>\n",
       "      <td>0.000000</td>\n",
       "      <td>0.686000</td>\n",
       "      <td>0.000000</td>\n",
       "      <td>0.000000</td>\n",
       "    </tr>\n",
       "    <tr>\n",
       "      <th>50%</th>\n",
       "      <td>0.000000</td>\n",
       "      <td>1.000000</td>\n",
       "      <td>0.000000</td>\n",
       "      <td>0.000000</td>\n",
       "    </tr>\n",
       "    <tr>\n",
       "      <th>75%</th>\n",
       "      <td>0.000000</td>\n",
       "      <td>1.000000</td>\n",
       "      <td>0.204000</td>\n",
       "      <td>0.310800</td>\n",
       "    </tr>\n",
       "    <tr>\n",
       "      <th>max</th>\n",
       "      <td>1.000000</td>\n",
       "      <td>1.000000</td>\n",
       "      <td>1.000000</td>\n",
       "      <td>0.948900</td>\n",
       "    </tr>\n",
       "  </tbody>\n",
       "</table>\n",
       "</div>"
      ],
      "text/plain": [
       "              neg         neu         pos    compound\n",
       "count  975.000000  975.000000  975.000000  975.000000\n",
       "mean     0.056265    0.837358    0.106376    0.093832\n",
       "std      0.136578    0.211725    0.178028    0.320572\n",
       "min      0.000000    0.000000    0.000000   -0.836000\n",
       "25%      0.000000    0.686000    0.000000    0.000000\n",
       "50%      0.000000    1.000000    0.000000    0.000000\n",
       "75%      0.000000    1.000000    0.204000    0.310800\n",
       "max      1.000000    1.000000    1.000000    0.948900"
      ]
     },
     "execution_count": 177,
     "metadata": {},
     "output_type": "execute_result"
    }
   ],
   "source": [
    "sia_df_cf.describe()"
   ]
  },
  {
   "cell_type": "markdown",
   "id": "7149d0cf-42b8-4892-8b42-de1345e7e368",
   "metadata": {},
   "source": [
    "#### Polarity Scores for OTF 'selftext'"
   ]
  },
  {
   "cell_type": "code",
   "execution_count": 191,
   "id": "d161ac9a-96cc-4794-a791-c004b3d73dcd",
   "metadata": {},
   "outputs": [
    {
     "data": {
      "text/html": [
       "<div>\n",
       "<style scoped>\n",
       "    .dataframe tbody tr th:only-of-type {\n",
       "        vertical-align: middle;\n",
       "    }\n",
       "\n",
       "    .dataframe tbody tr th {\n",
       "        vertical-align: top;\n",
       "    }\n",
       "\n",
       "    .dataframe thead th {\n",
       "        text-align: right;\n",
       "    }\n",
       "</style>\n",
       "<table border=\"1\" class=\"dataframe\">\n",
       "  <thead>\n",
       "    <tr style=\"text-align: right;\">\n",
       "      <th></th>\n",
       "      <th>neg</th>\n",
       "      <th>neu</th>\n",
       "      <th>pos</th>\n",
       "      <th>compound</th>\n",
       "    </tr>\n",
       "  </thead>\n",
       "  <tbody>\n",
       "    <tr>\n",
       "      <th>112</th>\n",
       "      <td>0.102</td>\n",
       "      <td>0.680</td>\n",
       "      <td>0.218</td>\n",
       "      <td>0.9972</td>\n",
       "    </tr>\n",
       "    <tr>\n",
       "      <th>681</th>\n",
       "      <td>0.038</td>\n",
       "      <td>0.747</td>\n",
       "      <td>0.214</td>\n",
       "      <td>0.9971</td>\n",
       "    </tr>\n",
       "    <tr>\n",
       "      <th>141</th>\n",
       "      <td>0.054</td>\n",
       "      <td>0.730</td>\n",
       "      <td>0.216</td>\n",
       "      <td>0.9964</td>\n",
       "    </tr>\n",
       "    <tr>\n",
       "      <th>697</th>\n",
       "      <td>0.047</td>\n",
       "      <td>0.658</td>\n",
       "      <td>0.295</td>\n",
       "      <td>0.9959</td>\n",
       "    </tr>\n",
       "    <tr>\n",
       "      <th>90</th>\n",
       "      <td>0.028</td>\n",
       "      <td>0.834</td>\n",
       "      <td>0.138</td>\n",
       "      <td>0.9954</td>\n",
       "    </tr>\n",
       "  </tbody>\n",
       "</table>\n",
       "</div>"
      ],
      "text/plain": [
       "       neg    neu    pos  compound\n",
       "112  0.102  0.680  0.218    0.9972\n",
       "681  0.038  0.747  0.214    0.9971\n",
       "141  0.054  0.730  0.216    0.9964\n",
       "697  0.047  0.658  0.295    0.9959\n",
       "90   0.028  0.834  0.138    0.9954"
      ]
     },
     "execution_count": 191,
     "metadata": {},
     "output_type": "execute_result"
    }
   ],
   "source": [
    "sia_dicts_otf_txt = [sia.polarity_scores(post) for post in otf_df['selftext']]\n",
    "\n",
    "sia_df_otf_txt = pd.DataFrame(sia_dicts_otf_txt)\n",
    "\n",
    "sia_df_otf_txt.sort_values(by='compound', ascending=False).head()"
   ]
  },
  {
   "cell_type": "code",
   "execution_count": 192,
   "id": "edaf1333-dcdb-4624-ad50-464c65fdc113",
   "metadata": {},
   "outputs": [
    {
     "data": {
      "text/html": [
       "<div>\n",
       "<style scoped>\n",
       "    .dataframe tbody tr th:only-of-type {\n",
       "        vertical-align: middle;\n",
       "    }\n",
       "\n",
       "    .dataframe tbody tr th {\n",
       "        vertical-align: top;\n",
       "    }\n",
       "\n",
       "    .dataframe thead th {\n",
       "        text-align: right;\n",
       "    }\n",
       "</style>\n",
       "<table border=\"1\" class=\"dataframe\">\n",
       "  <thead>\n",
       "    <tr style=\"text-align: right;\">\n",
       "      <th></th>\n",
       "      <th>neg</th>\n",
       "      <th>neu</th>\n",
       "      <th>pos</th>\n",
       "      <th>compound</th>\n",
       "    </tr>\n",
       "  </thead>\n",
       "  <tbody>\n",
       "    <tr>\n",
       "      <th>count</th>\n",
       "      <td>844.000000</td>\n",
       "      <td>844.000000</td>\n",
       "      <td>844.000000</td>\n",
       "      <td>844.000000</td>\n",
       "    </tr>\n",
       "    <tr>\n",
       "      <th>mean</th>\n",
       "      <td>0.054960</td>\n",
       "      <td>0.831831</td>\n",
       "      <td>0.113216</td>\n",
       "      <td>0.285472</td>\n",
       "    </tr>\n",
       "    <tr>\n",
       "      <th>std</th>\n",
       "      <td>0.060359</td>\n",
       "      <td>0.098168</td>\n",
       "      <td>0.090958</td>\n",
       "      <td>0.628662</td>\n",
       "    </tr>\n",
       "    <tr>\n",
       "      <th>min</th>\n",
       "      <td>0.000000</td>\n",
       "      <td>0.000000</td>\n",
       "      <td>0.000000</td>\n",
       "      <td>-0.997200</td>\n",
       "    </tr>\n",
       "    <tr>\n",
       "      <th>25%</th>\n",
       "      <td>0.000000</td>\n",
       "      <td>0.769750</td>\n",
       "      <td>0.050750</td>\n",
       "      <td>-0.190925</td>\n",
       "    </tr>\n",
       "    <tr>\n",
       "      <th>50%</th>\n",
       "      <td>0.042000</td>\n",
       "      <td>0.839000</td>\n",
       "      <td>0.103000</td>\n",
       "      <td>0.501650</td>\n",
       "    </tr>\n",
       "    <tr>\n",
       "      <th>75%</th>\n",
       "      <td>0.088000</td>\n",
       "      <td>0.890000</td>\n",
       "      <td>0.161000</td>\n",
       "      <td>0.827350</td>\n",
       "    </tr>\n",
       "    <tr>\n",
       "      <th>max</th>\n",
       "      <td>0.438000</td>\n",
       "      <td>1.000000</td>\n",
       "      <td>1.000000</td>\n",
       "      <td>0.997200</td>\n",
       "    </tr>\n",
       "  </tbody>\n",
       "</table>\n",
       "</div>"
      ],
      "text/plain": [
       "              neg         neu         pos    compound\n",
       "count  844.000000  844.000000  844.000000  844.000000\n",
       "mean     0.054960    0.831831    0.113216    0.285472\n",
       "std      0.060359    0.098168    0.090958    0.628662\n",
       "min      0.000000    0.000000    0.000000   -0.997200\n",
       "25%      0.000000    0.769750    0.050750   -0.190925\n",
       "50%      0.042000    0.839000    0.103000    0.501650\n",
       "75%      0.088000    0.890000    0.161000    0.827350\n",
       "max      0.438000    1.000000    1.000000    0.997200"
      ]
     },
     "execution_count": 192,
     "metadata": {},
     "output_type": "execute_result"
    }
   ],
   "source": [
    "sia_df_otf_txt.describe()"
   ]
  },
  {
   "cell_type": "markdown",
   "id": "6a546291-9ede-4ae6-863f-1f1314cc7a00",
   "metadata": {},
   "source": [
    "#### Polarity Scores for CF 'selftext'"
   ]
  },
  {
   "cell_type": "code",
   "execution_count": 193,
   "id": "62e7ad29-da46-4f9d-b435-795fee881088",
   "metadata": {},
   "outputs": [
    {
     "data": {
      "text/html": [
       "<div>\n",
       "<style scoped>\n",
       "    .dataframe tbody tr th:only-of-type {\n",
       "        vertical-align: middle;\n",
       "    }\n",
       "\n",
       "    .dataframe tbody tr th {\n",
       "        vertical-align: top;\n",
       "    }\n",
       "\n",
       "    .dataframe thead th {\n",
       "        text-align: right;\n",
       "    }\n",
       "</style>\n",
       "<table border=\"1\" class=\"dataframe\">\n",
       "  <thead>\n",
       "    <tr style=\"text-align: right;\">\n",
       "      <th></th>\n",
       "      <th>neg</th>\n",
       "      <th>neu</th>\n",
       "      <th>pos</th>\n",
       "      <th>compound</th>\n",
       "    </tr>\n",
       "  </thead>\n",
       "  <tbody>\n",
       "    <tr>\n",
       "      <th>306</th>\n",
       "      <td>0.014</td>\n",
       "      <td>0.744</td>\n",
       "      <td>0.242</td>\n",
       "      <td>0.9937</td>\n",
       "    </tr>\n",
       "    <tr>\n",
       "      <th>235</th>\n",
       "      <td>0.036</td>\n",
       "      <td>0.753</td>\n",
       "      <td>0.212</td>\n",
       "      <td>0.9920</td>\n",
       "    </tr>\n",
       "    <tr>\n",
       "      <th>53</th>\n",
       "      <td>0.000</td>\n",
       "      <td>0.786</td>\n",
       "      <td>0.214</td>\n",
       "      <td>0.9867</td>\n",
       "    </tr>\n",
       "    <tr>\n",
       "      <th>11</th>\n",
       "      <td>0.000</td>\n",
       "      <td>0.821</td>\n",
       "      <td>0.179</td>\n",
       "      <td>0.9866</td>\n",
       "    </tr>\n",
       "    <tr>\n",
       "      <th>148</th>\n",
       "      <td>0.000</td>\n",
       "      <td>0.525</td>\n",
       "      <td>0.475</td>\n",
       "      <td>0.9860</td>\n",
       "    </tr>\n",
       "  </tbody>\n",
       "</table>\n",
       "</div>"
      ],
      "text/plain": [
       "       neg    neu    pos  compound\n",
       "306  0.014  0.744  0.242    0.9937\n",
       "235  0.036  0.753  0.212    0.9920\n",
       "53   0.000  0.786  0.214    0.9867\n",
       "11   0.000  0.821  0.179    0.9866\n",
       "148  0.000  0.525  0.475    0.9860"
      ]
     },
     "execution_count": 193,
     "metadata": {},
     "output_type": "execute_result"
    }
   ],
   "source": [
    "sia_dicts_cf_txt = [sia.polarity_scores(post) for post in cf_df['selftext']]\n",
    "\n",
    "sia_df_cf_txt = pd.DataFrame(sia_dicts_cf_txt)\n",
    "\n",
    "sia_df_cf_txt.sort_values(by='compound', ascending=False).head()"
   ]
  },
  {
   "cell_type": "code",
   "execution_count": 194,
   "id": "a9b37676-dc33-4568-a34b-05154467a8e0",
   "metadata": {},
   "outputs": [
    {
     "data": {
      "text/html": [
       "<div>\n",
       "<style scoped>\n",
       "    .dataframe tbody tr th:only-of-type {\n",
       "        vertical-align: middle;\n",
       "    }\n",
       "\n",
       "    .dataframe tbody tr th {\n",
       "        vertical-align: top;\n",
       "    }\n",
       "\n",
       "    .dataframe thead th {\n",
       "        text-align: right;\n",
       "    }\n",
       "</style>\n",
       "<table border=\"1\" class=\"dataframe\">\n",
       "  <thead>\n",
       "    <tr style=\"text-align: right;\">\n",
       "      <th></th>\n",
       "      <th>neg</th>\n",
       "      <th>neu</th>\n",
       "      <th>pos</th>\n",
       "      <th>compound</th>\n",
       "    </tr>\n",
       "  </thead>\n",
       "  <tbody>\n",
       "    <tr>\n",
       "      <th>count</th>\n",
       "      <td>341.000000</td>\n",
       "      <td>341.000000</td>\n",
       "      <td>341.000000</td>\n",
       "      <td>341.000000</td>\n",
       "    </tr>\n",
       "    <tr>\n",
       "      <th>mean</th>\n",
       "      <td>0.047935</td>\n",
       "      <td>0.833774</td>\n",
       "      <td>0.118287</td>\n",
       "      <td>0.385459</td>\n",
       "    </tr>\n",
       "    <tr>\n",
       "      <th>std</th>\n",
       "      <td>0.066213</td>\n",
       "      <td>0.102247</td>\n",
       "      <td>0.092725</td>\n",
       "      <td>0.571745</td>\n",
       "    </tr>\n",
       "    <tr>\n",
       "      <th>min</th>\n",
       "      <td>0.000000</td>\n",
       "      <td>0.514000</td>\n",
       "      <td>0.000000</td>\n",
       "      <td>-0.965400</td>\n",
       "    </tr>\n",
       "    <tr>\n",
       "      <th>25%</th>\n",
       "      <td>0.000000</td>\n",
       "      <td>0.778000</td>\n",
       "      <td>0.056000</td>\n",
       "      <td>0.000000</td>\n",
       "    </tr>\n",
       "    <tr>\n",
       "      <th>50%</th>\n",
       "      <td>0.028000</td>\n",
       "      <td>0.829000</td>\n",
       "      <td>0.106000</td>\n",
       "      <td>0.593100</td>\n",
       "    </tr>\n",
       "    <tr>\n",
       "      <th>75%</th>\n",
       "      <td>0.070000</td>\n",
       "      <td>0.904000</td>\n",
       "      <td>0.182000</td>\n",
       "      <td>0.877700</td>\n",
       "    </tr>\n",
       "    <tr>\n",
       "      <th>max</th>\n",
       "      <td>0.482000</td>\n",
       "      <td>1.000000</td>\n",
       "      <td>0.475000</td>\n",
       "      <td>0.993700</td>\n",
       "    </tr>\n",
       "  </tbody>\n",
       "</table>\n",
       "</div>"
      ],
      "text/plain": [
       "              neg         neu         pos    compound\n",
       "count  341.000000  341.000000  341.000000  341.000000\n",
       "mean     0.047935    0.833774    0.118287    0.385459\n",
       "std      0.066213    0.102247    0.092725    0.571745\n",
       "min      0.000000    0.514000    0.000000   -0.965400\n",
       "25%      0.000000    0.778000    0.056000    0.000000\n",
       "50%      0.028000    0.829000    0.106000    0.593100\n",
       "75%      0.070000    0.904000    0.182000    0.877700\n",
       "max      0.482000    1.000000    0.475000    0.993700"
      ]
     },
     "execution_count": 194,
     "metadata": {},
     "output_type": "execute_result"
    }
   ],
   "source": [
    "sia_df_cf_txt.describe()"
   ]
  },
  {
   "cell_type": "markdown",
   "id": "a174b702-b5a3-49eb-a8ae-c31c89ae2a68",
   "metadata": {},
   "source": [
    "### Conclusion and Recommendations"
   ]
  },
  {
   "cell_type": "markdown",
   "id": "4afd84eb-1cf2-4b9f-8c51-d8a4cb5ca643",
   "metadata": {},
   "source": [
    "My model did fairly well at predicting subreddits. The distribution of word counts and character length provided a good way to differntiate between the to subreddits. I would have liked to incorporate that into my model features to see if it would have improved the accuracy score. \n",
    "\n",
    "The gridsearch models, while they took a long time to run through numerous hyperparameters, did no better and at times even worse than the default pipeline models. I learned from this that more parameters don't necessarily mean better results.\n",
    "\n",
    "Unfortunately, the Sentiment Analysis did not provide any significant data in determining which fitness community was happier with their workouts. The compound scores for the title and selftext of each subreddit's post were overwhelmingly low, and neutral. Going forward I think it would do better with a lot more data, and more in depth EDA to filter out a lot of unnecessary words that cloud the analyzer. An interesting aspect I did discover from the posts during cleaning and analysis was that, a good number of users from both communities tend to treat the message boards as personal ads. The contents of most of the posts were a bit racy, and I discovered as well during tokenizing and lemmatizing that a number of words were being split on the letters 'M' and 'F'. After further analysis, I discovered that the posts were punctuating these letters with brackets to denote 'Male' and 'Female'.\n",
    "\n",
    "Although I was unable to answer which community was happier, I discovered a lot of little nuances during natural text EDA that will help me in future projects."
   ]
  }
 ],
 "metadata": {
  "kernelspec": {
   "display_name": "Python 3",
   "language": "python",
   "name": "python3"
  },
  "language_info": {
   "codemirror_mode": {
    "name": "ipython",
    "version": 3
   },
   "file_extension": ".py",
   "mimetype": "text/x-python",
   "name": "python",
   "nbconvert_exporter": "python",
   "pygments_lexer": "ipython3",
   "version": "3.8.8"
  }
 },
 "nbformat": 4,
 "nbformat_minor": 5
}
